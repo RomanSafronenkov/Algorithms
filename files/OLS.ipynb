{
 "cells": [
  {
   "cell_type": "markdown",
   "metadata": {},
   "source": [
    "<h1>Ordinary least squares</h1>"
   ]
  },
  {
   "cell_type": "code",
   "execution_count": 1,
   "metadata": {},
   "outputs": [],
   "source": [
    "import pandas as pd\n",
    "import numpy as np\n",
    "\n",
    "from statsmodels import api as smf\n",
    "from scipy import stats\n",
    "\n",
    "from tqdm.notebook import tqdm\n",
    "import matplotlib.pyplot as plt\n",
    "\n",
    "from IPython.display import HTML\n",
    "%matplotlib inline"
   ]
  },
  {
   "cell_type": "code",
   "execution_count": 2,
   "metadata": {},
   "outputs": [
    {
     "name": "stdout",
     "output_type": "stream",
     "text": [
      "1.0.5\n",
      "1.18.5\n",
      "0.12.2\n"
     ]
    }
   ],
   "source": [
    "import statsmodels\n",
    "print(pd.__version__)\n",
    "print(np.__version__)\n",
    "print(statsmodels.__version__)"
   ]
  },
  {
   "cell_type": "code",
   "execution_count": 3,
   "metadata": {},
   "outputs": [],
   "source": [
    "class OLS:\n",
    "    \"\"\"\n",
    "    Метод наименьших квадратов для линейной регрессии\n",
    "    Работает с pandas.DataFrame\n",
    "    \"\"\"\n",
    "    def __init__(self):\n",
    "        self.n_obs = None\n",
    "        self.n_params = None\n",
    "        self.df = None\n",
    "        self.w = None\n",
    "        self.RSS = None\n",
    "        self.cov = None\n",
    "        self.se_coef = None\n",
    "        self.t = None\n",
    "        self.pvals = []\n",
    "        self.F_stat = None\n",
    "    \n",
    "    def fit(self, data, cols, target):\n",
    "        self.cols = cols  # имена колонок на которых учимся\n",
    "        self.target = target  # название таргета\n",
    "        x = data[cols].values.reshape(-1, len(cols))\n",
    "        y = data[target].values.reshape(-1, 1)\n",
    "\n",
    "        self.n_obs = len(x)\n",
    "        self.n_params = len(cols)\n",
    "        self.df = self.n_obs - self.n_params -1\n",
    "\n",
    "        x = np.hstack((np.ones((len(x), 1)), x))\n",
    "        self.w = np.linalg.inv(x.T.dot(x)).dot(x.T).dot(y)  # (X.T*X)^-1*X.T*Y\n",
    "\n",
    "        self.RSS = np.sum((y - self.predict(x))**2)  # Residual sum of squares\n",
    "        \n",
    "        self.cov = np.linalg.inv(x.T.dot(x))  # ковариация\n",
    "        \n",
    "        self.se_coef = np.sqrt((self.RSS / (self.df)) * self.cov.diagonal())  # Standard error for coefs\n",
    "        self.t = self.w.ravel() / self.se_coef  # t-статистика для гипотезы о равенстве коэффициента нулю\n",
    "\n",
    "        cdf_t = stats.t(df=self.df).cdf(self.t)  # сколько площади под кривой распределения занимает наше значение статистики\n",
    "\n",
    "        # это для корректного определения p-value\n",
    "        for cdf in cdf_t:\n",
    "            if cdf >= 0.5:\n",
    "                pval = 2 * (1 - cdf)\n",
    "            else:\n",
    "                pval = 2 * cdf\n",
    "            self.pvals.append(pval)\n",
    "        \n",
    "        self.r2 = self.r2_score(y, self.predict(x))  # коэффициент детерминации\n",
    "        self.F_stat = (self.r2 / (1-self.r2)) * self.df / (len(self.w)-1)  # F-test that regression is useless\n",
    "        \n",
    "        # аналогично t-статистике\n",
    "        cdf_f = stats.f(dfn=len(self.w)-1, dfd=self.df).cdf(self.F_stat)\n",
    "        self.Fpval = 1 - cdf_f if cdf_f >= 0.5 else cdf_f\n",
    "        \n",
    "        self.resid = y - self.predict(x)\n",
    "        \n",
    "        self.AIC = 2 * (self.n_params+1) + self.n_obs*(np.log(2*np.pi*np.sum(self.resid**2)/self.n_obs)+1)\n",
    "        self.BIC = np.log(self.n_obs) * (self.n_params+1) + self.n_obs*(np.log(2*np.pi*np.sum(self.resid**2)/self.n_obs)+1)\n",
    "        return self\n",
    "    \n",
    "    def summary(self, alpha=0.05):\n",
    "        self.alpha = alpha\n",
    "        \n",
    "        summary = pd.DataFrame({})\n",
    "        summary['coef'] = self.w.ravel()\n",
    "        summary['se_coef'] = self.se_coef\n",
    "        summary['t'] = self.t\n",
    "        summary['pvals'] = self.pvals\n",
    "        summary[f'[{alpha/2}'] = self.w.ravel() - self.se_coef*stats.t(df=self.df).ppf(1-self.alpha/2)\n",
    "        summary[f'{1-alpha/2}]'] = self.w.ravel() + self.se_coef*stats.t(df=self.df).ppf(1-self.alpha/2)\n",
    "        summary['df'] = self.df\n",
    "        summary['n_obs'] = self.n_obs\n",
    "        summary['F_stat'] = self.F_stat\n",
    "        summary['Fpval'] = self.Fpval\n",
    "        summary['R-squared'] = self.r2\n",
    "        summary['AIC'] = self.AIC\n",
    "        summary['BIC'] = self.BIC\n",
    "        summary.index = ['Intercept'] + self.cols\n",
    "        return summary\n",
    "    \n",
    "    def predict(self, x):\n",
    "        return x.dot(self.w)\n",
    "    \n",
    "    @staticmethod\n",
    "    def r2_score(y, y_pred):\n",
    "        return 1 - np.sum((y - y_pred)**2) / np.sum((y - np.mean(y))**2)\n",
    "    \n",
    "    def __repr__(self):\n",
    "        return f'OLS model \"{self.target} ~ {\" + \".join(self.cols)}\"'"
   ]
  },
  {
   "cell_type": "code",
   "execution_count": 4,
   "metadata": {},
   "outputs": [],
   "source": [
    "# данные о успехах в учебе\n",
    "data = pd.read_csv('https://raw.githubusercontent.com/FUlyankin/matstat_coursera/main/week13_linreg/data/study.tsv', sep='\\t')"
   ]
  },
  {
   "cell_type": "code",
   "execution_count": 5,
   "metadata": {},
   "outputs": [
    {
     "data": {
      "text/html": [
       "<div>\n",
       "<style scoped>\n",
       "    .dataframe tbody tr th:only-of-type {\n",
       "        vertical-align: middle;\n",
       "    }\n",
       "\n",
       "    .dataframe tbody tr th {\n",
       "        vertical-align: top;\n",
       "    }\n",
       "\n",
       "    .dataframe thead th {\n",
       "        text-align: right;\n",
       "    }\n",
       "</style>\n",
       "<table border=\"1\" class=\"dataframe\">\n",
       "  <thead>\n",
       "    <tr style=\"text-align: right;\">\n",
       "      <th></th>\n",
       "      <th>CLASS</th>\n",
       "      <th>EXPN</th>\n",
       "      <th>INCOME</th>\n",
       "      <th>TEST</th>\n",
       "    </tr>\n",
       "  </thead>\n",
       "  <tbody>\n",
       "    <tr>\n",
       "      <th>0</th>\n",
       "      <td>23</td>\n",
       "      <td>3</td>\n",
       "      <td>10</td>\n",
       "      <td>15</td>\n",
       "    </tr>\n",
       "    <tr>\n",
       "      <th>1</th>\n",
       "      <td>28</td>\n",
       "      <td>3</td>\n",
       "      <td>46</td>\n",
       "      <td>44</td>\n",
       "    </tr>\n",
       "    <tr>\n",
       "      <th>2</th>\n",
       "      <td>12</td>\n",
       "      <td>5</td>\n",
       "      <td>39</td>\n",
       "      <td>76</td>\n",
       "    </tr>\n",
       "    <tr>\n",
       "      <th>3</th>\n",
       "      <td>18</td>\n",
       "      <td>2</td>\n",
       "      <td>22</td>\n",
       "      <td>7</td>\n",
       "    </tr>\n",
       "    <tr>\n",
       "      <th>4</th>\n",
       "      <td>30</td>\n",
       "      <td>5</td>\n",
       "      <td>20</td>\n",
       "      <td>30</td>\n",
       "    </tr>\n",
       "  </tbody>\n",
       "</table>\n",
       "</div>"
      ],
      "text/plain": [
       "   CLASS  EXPN  INCOME  TEST\n",
       "0     23     3      10    15\n",
       "1     28     3      46    44\n",
       "2     12     5      39    76\n",
       "3     18     2      22     7\n",
       "4     30     5      20    30"
      ]
     },
     "execution_count": 5,
     "metadata": {},
     "output_type": "execute_result"
    }
   ],
   "source": [
    "data.head()"
   ]
  },
  {
   "cell_type": "code",
   "execution_count": 6,
   "metadata": {},
   "outputs": [
    {
     "data": {
      "text/plain": [
       "OLS model \"TEST ~ CLASS + INCOME + EXPN\""
      ]
     },
     "execution_count": 6,
     "metadata": {},
     "output_type": "execute_result"
    }
   ],
   "source": [
    "# Обучим мою модельку аналитического решения для регрессии\n",
    "my_model = OLS()\n",
    "my_model.fit(data, ['CLASS', 'INCOME', 'EXPN'], 'TEST')"
   ]
  },
  {
   "cell_type": "code",
   "execution_count": 7,
   "metadata": {},
   "outputs": [
    {
     "data": {
      "text/plain": [
       "0.7299492138643374"
      ]
     },
     "execution_count": 7,
     "metadata": {},
     "output_type": "execute_result"
    }
   ],
   "source": [
    "# Это посмотреть что коэффициент детерминации правильно считается\n",
    "x = np.hstack((np.ones((200, 1)), data[['CLASS', 'INCOME', 'EXPN']]))\n",
    "my_model.r2_score(data['TEST'], my_model.predict(x).ravel())"
   ]
  },
  {
   "cell_type": "code",
   "execution_count": 8,
   "metadata": {},
   "outputs": [
    {
     "data": {
      "text/html": [
       "<div>\n",
       "<style scoped>\n",
       "    .dataframe tbody tr th:only-of-type {\n",
       "        vertical-align: middle;\n",
       "    }\n",
       "\n",
       "    .dataframe tbody tr th {\n",
       "        vertical-align: top;\n",
       "    }\n",
       "\n",
       "    .dataframe thead th {\n",
       "        text-align: right;\n",
       "    }\n",
       "</style>\n",
       "<table border=\"1\" class=\"dataframe\">\n",
       "  <thead>\n",
       "    <tr style=\"text-align: right;\">\n",
       "      <th></th>\n",
       "      <th>coef</th>\n",
       "      <th>se_coef</th>\n",
       "      <th>t</th>\n",
       "      <th>pvals</th>\n",
       "      <th>[0.025</th>\n",
       "      <th>0.975]</th>\n",
       "      <th>df</th>\n",
       "      <th>n_obs</th>\n",
       "      <th>F_stat</th>\n",
       "      <th>Fpval</th>\n",
       "      <th>R-squared</th>\n",
       "      <th>AIC</th>\n",
       "      <th>BIC</th>\n",
       "    </tr>\n",
       "  </thead>\n",
       "  <tbody>\n",
       "    <tr>\n",
       "      <th>Intercept</th>\n",
       "      <td>29.178617</td>\n",
       "      <td>4.847205</td>\n",
       "      <td>6.019679</td>\n",
       "      <td>8.460552e-09</td>\n",
       "      <td>19.619245</td>\n",
       "      <td>38.737989</td>\n",
       "      <td>196</td>\n",
       "      <td>200</td>\n",
       "      <td>176.596469</td>\n",
       "      <td>1.110223e-16</td>\n",
       "      <td>0.729949</td>\n",
       "      <td>1537.496863</td>\n",
       "      <td>1550.690133</td>\n",
       "    </tr>\n",
       "    <tr>\n",
       "      <th>CLASS</th>\n",
       "      <td>-1.072502</td>\n",
       "      <td>0.163173</td>\n",
       "      <td>-6.572811</td>\n",
       "      <td>4.361339e-10</td>\n",
       "      <td>-1.394302</td>\n",
       "      <td>-0.750703</td>\n",
       "      <td>196</td>\n",
       "      <td>200</td>\n",
       "      <td>176.596469</td>\n",
       "      <td>1.110223e-16</td>\n",
       "      <td>0.729949</td>\n",
       "      <td>1537.496863</td>\n",
       "      <td>1550.690133</td>\n",
       "    </tr>\n",
       "    <tr>\n",
       "      <th>INCOME</th>\n",
       "      <td>1.048991</td>\n",
       "      <td>0.052599</td>\n",
       "      <td>19.943008</td>\n",
       "      <td>0.000000e+00</td>\n",
       "      <td>0.945257</td>\n",
       "      <td>1.152724</td>\n",
       "      <td>196</td>\n",
       "      <td>200</td>\n",
       "      <td>176.596469</td>\n",
       "      <td>1.110223e-16</td>\n",
       "      <td>0.729949</td>\n",
       "      <td>1537.496863</td>\n",
       "      <td>1550.690133</td>\n",
       "    </tr>\n",
       "    <tr>\n",
       "      <th>EXPN</th>\n",
       "      <td>2.050219</td>\n",
       "      <td>0.327487</td>\n",
       "      <td>6.260459</td>\n",
       "      <td>2.373830e-09</td>\n",
       "      <td>1.404368</td>\n",
       "      <td>2.696070</td>\n",
       "      <td>196</td>\n",
       "      <td>200</td>\n",
       "      <td>176.596469</td>\n",
       "      <td>1.110223e-16</td>\n",
       "      <td>0.729949</td>\n",
       "      <td>1537.496863</td>\n",
       "      <td>1550.690133</td>\n",
       "    </tr>\n",
       "  </tbody>\n",
       "</table>\n",
       "</div>"
      ],
      "text/plain": [
       "                coef   se_coef          t         pvals     [0.025     0.975]  \\\n",
       "Intercept  29.178617  4.847205   6.019679  8.460552e-09  19.619245  38.737989   \n",
       "CLASS      -1.072502  0.163173  -6.572811  4.361339e-10  -1.394302  -0.750703   \n",
       "INCOME      1.048991  0.052599  19.943008  0.000000e+00   0.945257   1.152724   \n",
       "EXPN        2.050219  0.327487   6.260459  2.373830e-09   1.404368   2.696070   \n",
       "\n",
       "            df  n_obs      F_stat         Fpval  R-squared          AIC  \\\n",
       "Intercept  196    200  176.596469  1.110223e-16   0.729949  1537.496863   \n",
       "CLASS      196    200  176.596469  1.110223e-16   0.729949  1537.496863   \n",
       "INCOME     196    200  176.596469  1.110223e-16   0.729949  1537.496863   \n",
       "EXPN       196    200  176.596469  1.110223e-16   0.729949  1537.496863   \n",
       "\n",
       "                   BIC  \n",
       "Intercept  1550.690133  \n",
       "CLASS      1550.690133  \n",
       "INCOME     1550.690133  \n",
       "EXPN       1550.690133  "
      ]
     },
     "execution_count": 8,
     "metadata": {},
     "output_type": "execute_result"
    }
   ],
   "source": [
    "# Вывод по модели, coef-коэффициент оценененный МНК\n",
    "# se_coef-стандартная ошибка коэффициента\n",
    "# t-статистика равенства коэффициента нулю\n",
    "# pvals-соответствующие t-статистикам значения p-value\n",
    "# 0.025 - 0.975 - доверительные интервалы для коэффициентов\n",
    "# df-число степеней свободы\n",
    "# n_obs-число наблюдений\n",
    "# F_stat-F-статистика равенства всех коэффициентов нулю (гипотеза о бессмысленности модели в целом)\n",
    "# Fpval-соответствующее F_stat значение p-value\n",
    "# R-squared-коэффициент детерминации\n",
    "my_model.summary()"
   ]
  },
  {
   "cell_type": "code",
   "execution_count": 9,
   "metadata": {},
   "outputs": [
    {
     "data": {
      "image/png": "[encoded data removed]",
      "text/plain": [
       "<Figure size 1382.4x777.6 with 1 Axes>"
      ]
     },
     "metadata": {
      "needs_background": "light"
     },
     "output_type": "display_data"
    }
   ],
   "source": [
    "# QQ-plot для остатков, похоже на нормальное распределение\n",
    "plt.figure(figsize=(19.20, 10.80))\n",
    "stats.probplot(my_model.resid.ravel(), plot=plt)\n",
    "plt.show()"
   ]
  },
  {
   "cell_type": "code",
   "execution_count": 10,
   "metadata": {},
   "outputs": [
    {
     "data": {
      "text/plain": [
       "KstestResult(statistic=0.05469384217022022, pvalue=0.5688178220990907)"
      ]
     },
     "execution_count": 10,
     "metadata": {},
     "output_type": "execute_result"
    }
   ],
   "source": [
    "# Тест Колмогорова-Смирнова на нормальность остатков, гипотеза о нормальности не отвергается\n",
    "stats.kstest(my_model.resid.ravel(), 'norm', args=(0, np.sqrt(my_model.RSS/my_model.df)))"
   ]
  },
  {
   "cell_type": "code",
   "execution_count": 11,
   "metadata": {},
   "outputs": [
    {
     "data": {
      "text/plain": [
       "11.188707135629317"
      ]
     },
     "execution_count": 11,
     "metadata": {},
     "output_type": "execute_result"
    }
   ],
   "source": [
    "# Сравним стандартную ошибку остатков по выборке остатков\n",
    "(my_model.resid.ravel()).std(ddof=4)  # 4 parameters"
   ]
  },
  {
   "cell_type": "code",
   "execution_count": 12,
   "metadata": {},
   "outputs": [
    {
     "data": {
      "text/plain": [
       "11.188707135629317"
      ]
     },
     "execution_count": 12,
     "metadata": {},
     "output_type": "execute_result"
    }
   ],
   "source": [
    "# И по формуле, отсюда видно сколько степеней свободы отнимается под коэффициенты\n",
    "np.sqrt(my_model.RSS/my_model.df)"
   ]
  },
  {
   "cell_type": "code",
   "execution_count": 13,
   "metadata": {},
   "outputs": [
    {
     "data": {
      "text/html": [
       "<table class=\"simpletable\">\n",
       "<caption>OLS Regression Results</caption>\n",
       "<tr>\n",
       "  <th>Dep. Variable:</th>            <td>y</td>        <th>  R-squared:         </th> <td>   0.730</td>\n",
       "</tr>\n",
       "<tr>\n",
       "  <th>Model:</th>                   <td>OLS</td>       <th>  Adj. R-squared:    </th> <td>   0.726</td>\n",
       "</tr>\n",
       "<tr>\n",
       "  <th>Method:</th>             <td>Least Squares</td>  <th>  F-statistic:       </th> <td>   176.6</td>\n",
       "</tr>\n",
       "<tr>\n",
       "  <th>Date:</th>             <td>Sat, 07 Aug 2021</td> <th>  Prob (F-statistic):</th> <td>1.84e-55</td>\n",
       "</tr>\n",
       "<tr>\n",
       "  <th>Time:</th>                 <td>10:25:10</td>     <th>  Log-Likelihood:    </th> <td> -764.75</td>\n",
       "</tr>\n",
       "<tr>\n",
       "  <th>No. Observations:</th>      <td>   200</td>      <th>  AIC:               </th> <td>   1537.</td>\n",
       "</tr>\n",
       "<tr>\n",
       "  <th>Df Residuals:</th>          <td>   196</td>      <th>  BIC:               </th> <td>   1551.</td>\n",
       "</tr>\n",
       "<tr>\n",
       "  <th>Df Model:</th>              <td>     3</td>      <th>                     </th>     <td> </td>   \n",
       "</tr>\n",
       "<tr>\n",
       "  <th>Covariance Type:</th>      <td>nonrobust</td>    <th>                     </th>     <td> </td>   \n",
       "</tr>\n",
       "</table>\n",
       "<table class=\"simpletable\">\n",
       "<tr>\n",
       "    <td></td>       <th>coef</th>     <th>std err</th>      <th>t</th>      <th>P>|t|</th>  <th>[0.025</th>    <th>0.975]</th>  \n",
       "</tr>\n",
       "<tr>\n",
       "  <th>const</th> <td>   29.1786</td> <td>    4.847</td> <td>    6.020</td> <td> 0.000</td> <td>   19.619</td> <td>   38.738</td>\n",
       "</tr>\n",
       "<tr>\n",
       "  <th>x1</th>    <td>   -1.0725</td> <td>    0.163</td> <td>   -6.573</td> <td> 0.000</td> <td>   -1.394</td> <td>   -0.751</td>\n",
       "</tr>\n",
       "<tr>\n",
       "  <th>x2</th>    <td>    1.0490</td> <td>    0.053</td> <td>   19.943</td> <td> 0.000</td> <td>    0.945</td> <td>    1.153</td>\n",
       "</tr>\n",
       "<tr>\n",
       "  <th>x3</th>    <td>    2.0502</td> <td>    0.327</td> <td>    6.260</td> <td> 0.000</td> <td>    1.404</td> <td>    2.696</td>\n",
       "</tr>\n",
       "</table>\n",
       "<table class=\"simpletable\">\n",
       "<tr>\n",
       "  <th>Omnibus:</th>       <td> 2.440</td> <th>  Durbin-Watson:     </th> <td>   2.009</td>\n",
       "</tr>\n",
       "<tr>\n",
       "  <th>Prob(Omnibus):</th> <td> 0.295</td> <th>  Jarque-Bera (JB):  </th> <td>   2.502</td>\n",
       "</tr>\n",
       "<tr>\n",
       "  <th>Skew:</th>          <td>-0.257</td> <th>  Prob(JB):          </th> <td>   0.286</td>\n",
       "</tr>\n",
       "<tr>\n",
       "  <th>Kurtosis:</th>      <td> 2.811</td> <th>  Cond. No.          </th> <td>    271.</td>\n",
       "</tr>\n",
       "</table><br/><br/>Notes:<br/>[1] Standard Errors assume that the covariance matrix of the errors is correctly specified."
      ],
      "text/plain": [
       "<class 'statsmodels.iolib.summary.Summary'>\n",
       "\"\"\"\n",
       "                            OLS Regression Results                            \n",
       "==============================================================================\n",
       "Dep. Variable:                      y   R-squared:                       0.730\n",
       "Model:                            OLS   Adj. R-squared:                  0.726\n",
       "Method:                 Least Squares   F-statistic:                     176.6\n",
       "Date:                Sat, 07 Aug 2021   Prob (F-statistic):           1.84e-55\n",
       "Time:                        10:25:10   Log-Likelihood:                -764.75\n",
       "No. Observations:                 200   AIC:                             1537.\n",
       "Df Residuals:                     196   BIC:                             1551.\n",
       "Df Model:                           3                                         \n",
       "Covariance Type:            nonrobust                                         \n",
       "==============================================================================\n",
       "                 coef    std err          t      P>|t|      [0.025      0.975]\n",
       "------------------------------------------------------------------------------\n",
       "const         29.1786      4.847      6.020      0.000      19.619      38.738\n",
       "x1            -1.0725      0.163     -6.573      0.000      -1.394      -0.751\n",
       "x2             1.0490      0.053     19.943      0.000       0.945       1.153\n",
       "x3             2.0502      0.327      6.260      0.000       1.404       2.696\n",
       "==============================================================================\n",
       "Omnibus:                        2.440   Durbin-Watson:                   2.009\n",
       "Prob(Omnibus):                  0.295   Jarque-Bera (JB):                2.502\n",
       "Skew:                          -0.257   Prob(JB):                        0.286\n",
       "Kurtosis:                       2.811   Cond. No.                         271.\n",
       "==============================================================================\n",
       "\n",
       "Notes:\n",
       "[1] Standard Errors assume that the covariance matrix of the errors is correctly specified.\n",
       "\"\"\""
      ]
     },
     "execution_count": 13,
     "metadata": {},
     "output_type": "execute_result"
    }
   ],
   "source": [
    "model = smf.OLS(data['TEST'].values, x)\n",
    "model.fit().summary()"
   ]
  },
  {
   "cell_type": "code",
   "execution_count": 14,
   "metadata": {},
   "outputs": [
    {
     "data": {
      "text/html": [
       "<div>\n",
       "<style scoped>\n",
       "    .dataframe tbody tr th:only-of-type {\n",
       "        vertical-align: middle;\n",
       "    }\n",
       "\n",
       "    .dataframe tbody tr th {\n",
       "        vertical-align: top;\n",
       "    }\n",
       "\n",
       "    .dataframe thead th {\n",
       "        text-align: right;\n",
       "    }\n",
       "</style>\n",
       "<table border=\"1\" class=\"dataframe\">\n",
       "  <thead>\n",
       "    <tr style=\"text-align: right;\">\n",
       "      <th></th>\n",
       "      <th>coef</th>\n",
       "      <th>se_coef</th>\n",
       "      <th>t</th>\n",
       "      <th>pvals</th>\n",
       "      <th>[0.025</th>\n",
       "      <th>0.975]</th>\n",
       "      <th>df</th>\n",
       "      <th>n_obs</th>\n",
       "      <th>F_stat</th>\n",
       "      <th>Fpval</th>\n",
       "      <th>R-squared</th>\n",
       "      <th>AIC</th>\n",
       "      <th>BIC</th>\n",
       "    </tr>\n",
       "  </thead>\n",
       "  <tbody>\n",
       "    <tr>\n",
       "      <th>Intercept</th>\n",
       "      <td>29.178617</td>\n",
       "      <td>4.847205</td>\n",
       "      <td>6.019679</td>\n",
       "      <td>8.460552e-09</td>\n",
       "      <td>19.619245</td>\n",
       "      <td>38.737989</td>\n",
       "      <td>196</td>\n",
       "      <td>200</td>\n",
       "      <td>176.596469</td>\n",
       "      <td>1.110223e-16</td>\n",
       "      <td>0.729949</td>\n",
       "      <td>1537.496863</td>\n",
       "      <td>1550.690133</td>\n",
       "    </tr>\n",
       "    <tr>\n",
       "      <th>CLASS</th>\n",
       "      <td>-1.072502</td>\n",
       "      <td>0.163173</td>\n",
       "      <td>-6.572811</td>\n",
       "      <td>4.361339e-10</td>\n",
       "      <td>-1.394302</td>\n",
       "      <td>-0.750703</td>\n",
       "      <td>196</td>\n",
       "      <td>200</td>\n",
       "      <td>176.596469</td>\n",
       "      <td>1.110223e-16</td>\n",
       "      <td>0.729949</td>\n",
       "      <td>1537.496863</td>\n",
       "      <td>1550.690133</td>\n",
       "    </tr>\n",
       "    <tr>\n",
       "      <th>INCOME</th>\n",
       "      <td>1.048991</td>\n",
       "      <td>0.052599</td>\n",
       "      <td>19.943008</td>\n",
       "      <td>0.000000e+00</td>\n",
       "      <td>0.945257</td>\n",
       "      <td>1.152724</td>\n",
       "      <td>196</td>\n",
       "      <td>200</td>\n",
       "      <td>176.596469</td>\n",
       "      <td>1.110223e-16</td>\n",
       "      <td>0.729949</td>\n",
       "      <td>1537.496863</td>\n",
       "      <td>1550.690133</td>\n",
       "    </tr>\n",
       "    <tr>\n",
       "      <th>EXPN</th>\n",
       "      <td>2.050219</td>\n",
       "      <td>0.327487</td>\n",
       "      <td>6.260459</td>\n",
       "      <td>2.373830e-09</td>\n",
       "      <td>1.404368</td>\n",
       "      <td>2.696070</td>\n",
       "      <td>196</td>\n",
       "      <td>200</td>\n",
       "      <td>176.596469</td>\n",
       "      <td>1.110223e-16</td>\n",
       "      <td>0.729949</td>\n",
       "      <td>1537.496863</td>\n",
       "      <td>1550.690133</td>\n",
       "    </tr>\n",
       "  </tbody>\n",
       "</table>\n",
       "</div>"
      ],
      "text/plain": [
       "                coef   se_coef          t         pvals     [0.025     0.975]  \\\n",
       "Intercept  29.178617  4.847205   6.019679  8.460552e-09  19.619245  38.737989   \n",
       "CLASS      -1.072502  0.163173  -6.572811  4.361339e-10  -1.394302  -0.750703   \n",
       "INCOME      1.048991  0.052599  19.943008  0.000000e+00   0.945257   1.152724   \n",
       "EXPN        2.050219  0.327487   6.260459  2.373830e-09   1.404368   2.696070   \n",
       "\n",
       "            df  n_obs      F_stat         Fpval  R-squared          AIC  \\\n",
       "Intercept  196    200  176.596469  1.110223e-16   0.729949  1537.496863   \n",
       "CLASS      196    200  176.596469  1.110223e-16   0.729949  1537.496863   \n",
       "INCOME     196    200  176.596469  1.110223e-16   0.729949  1537.496863   \n",
       "EXPN       196    200  176.596469  1.110223e-16   0.729949  1537.496863   \n",
       "\n",
       "                   BIC  \n",
       "Intercept  1550.690133  \n",
       "CLASS      1550.690133  \n",
       "INCOME     1550.690133  \n",
       "EXPN       1550.690133  "
      ]
     },
     "execution_count": 14,
     "metadata": {},
     "output_type": "execute_result"
    }
   ],
   "source": [
    "#  можно сравнить как работает statsmodels и написанная ручками модель\n",
    "my_model.summary()"
   ]
  },
  {
   "cell_type": "markdown",
   "metadata": {},
   "source": [
    "## Bootstrap интервалы"
   ]
  },
  {
   "cell_type": "code",
   "execution_count": 15,
   "metadata": {},
   "outputs": [],
   "source": [
    "def get_bootstrap_samples(x, n=1):\n",
    "    \"\"\"\n",
    "    Функция для создания бутстреп выборок\n",
    "    \"\"\"\n",
    "    n_obj = len(x)\n",
    "    indexes = np.arange(len(x))\n",
    "    choice = np.random.choice(indexes, size=(n, n_obj), replace=True)\n",
    "    return x[choice]"
   ]
  },
  {
   "cell_type": "code",
   "execution_count": 16,
   "metadata": {},
   "outputs": [],
   "source": [
    "# Добавим столбец единиц сразу, для свободного члена\n",
    "X = np.hstack((np.ones((len(data), 1)), data.values))"
   ]
  },
  {
   "cell_type": "code",
   "execution_count": 17,
   "metadata": {},
   "outputs": [],
   "source": [
    "bootstrap_x = get_bootstrap_samples(X, 100000)"
   ]
  },
  {
   "cell_type": "code",
   "execution_count": 18,
   "metadata": {},
   "outputs": [
    {
     "data": {
      "text/plain": [
       "array([7.60488611e-312, 7.60488611e-312, 7.60488611e-312, 7.60488611e-312])"
      ]
     },
     "execution_count": 18,
     "metadata": {},
     "output_type": "execute_result"
    }
   ],
   "source": [
    "np.empty((4, ))"
   ]
  },
  {
   "cell_type": "code",
   "execution_count": 19,
   "metadata": {},
   "outputs": [
    {
     "data": {
      "application/vnd.jupyter.widget-view+json": {
       "model_id": "2a49962974b14f4fbfedcc4dbd78ba24",
       "version_major": 2,
       "version_minor": 0
      },
      "text/plain": [
       "  0%|          | 0/100000 [00:00<?, ?it/s]"
      ]
     },
     "metadata": {},
     "output_type": "display_data"
    }
   ],
   "source": [
    "# Посчитаем бутстреп средние\n",
    "means = np.empty((X.shape[1], ))\n",
    "for subarr in tqdm(bootstrap_x):\n",
    "    means = np.vstack((means, subarr.mean(axis=0)))\n",
    "means = means[1:, :]"
   ]
  },
  {
   "cell_type": "code",
   "execution_count": 20,
   "metadata": {},
   "outputs": [
    {
     "data": {
      "text/plain": [
       "array([[ 1.   , 20.9  ,  5.69 , 33.69 , 53.89 ],\n",
       "       [ 1.   , 21.395,  5.91 , 35.215, 54.195],\n",
       "       [ 1.   , 22.095,  5.735, 35.3  , 55.67 ],\n",
       "       ...,\n",
       "       [ 1.   , 22.32 ,  5.875, 36.61 , 55.36 ],\n",
       "       [ 1.   , 21.175,  6.145, 36.265, 58.245],\n",
       "       [ 1.   , 21.575,  5.65 , 37.36 , 56.11 ]])"
      ]
     },
     "execution_count": 20,
     "metadata": {},
     "output_type": "execute_result"
    }
   ],
   "source": [
    "means"
   ]
  },
  {
   "cell_type": "code",
   "execution_count": 21,
   "metadata": {},
   "outputs": [
    {
     "data": {
      "image/png": "[encoded data removed]",
      "text/plain": [
       "<Figure size 720x360 with 1 Axes>"
      ]
     },
     "metadata": {
      "needs_background": "light"
     },
     "output_type": "display_data"
    },
    {
     "data": {
      "image/png": "[encoded data removed]",
      "text/plain": [
       "<Figure size 720x360 with 1 Axes>"
      ]
     },
     "metadata": {
      "needs_background": "light"
     },
     "output_type": "display_data"
    },
    {
     "data": {
      "image/png": "[encoded data removed]",
      "text/plain": [
       "<Figure size 720x360 with 1 Axes>"
      ]
     },
     "metadata": {
      "needs_background": "light"
     },
     "output_type": "display_data"
    },
    {
     "data": {
      "image/png": "[encoded data removed]",
      "text/plain": [
       "<Figure size 720x360 with 1 Axes>"
      ]
     },
     "metadata": {
      "needs_background": "light"
     },
     "output_type": "display_data"
    }
   ],
   "source": [
    "# ЕЕЕ ЦПТ работает (распределение средних из выборок к нормальному распределению стремится)\n",
    "for i in range(1, means.shape[1]):\n",
    "    plt.figure(figsize=(10, 5))\n",
    "    plt.hist(means[:, i], bins=40)\n",
    "    plt.pause(1)"
   ]
  },
  {
   "cell_type": "code",
   "execution_count": 22,
   "metadata": {},
   "outputs": [
    {
     "data": {
      "text/plain": [
       "array([[  1.,  12.,   5.,  39.,  76.],\n",
       "       [  1.,  19.,   2.,  59.,  82.],\n",
       "       [  1.,  22.,   7.,  11.,  23.],\n",
       "       [  1.,  18.,   5.,  16.,  42.],\n",
       "       [  1.,  17.,   4.,  32.,  69.],\n",
       "       [  1.,  16.,   5.,  29.,  63.],\n",
       "       [  1.,  20.,   6.,  10.,  31.],\n",
       "       [  1.,  16.,   8.,  47.,  67.],\n",
       "       [  1.,  31.,   3.,  45.,  49.],\n",
       "       [  1.,  25.,   3.,  16.,  42.],\n",
       "       [  1.,  26.,  10.,  55.,  75.],\n",
       "       [  1.,  16.,   7.,  37.,  71.],\n",
       "       [  1.,  25.,   6.,  14.,  22.],\n",
       "       [  1.,  15.,   7.,  22.,  52.],\n",
       "       [  1.,  15.,   3.,  31.,  55.],\n",
       "       [  1.,  21.,   7.,  44.,  84.],\n",
       "       [  1.,  22.,   5.,  43.,  58.],\n",
       "       [  1.,  25.,   3.,  16.,  22.],\n",
       "       [  1.,  26.,   6.,  21.,  16.],\n",
       "       [  1.,  24.,   9.,  16.,  41.],\n",
       "       [  1.,  17.,   3.,  14.,  26.],\n",
       "       [  1.,  18.,   4.,  48.,  70.],\n",
       "       [  1.,  25.,   9.,  26.,  57.],\n",
       "       [  1.,  17.,  10.,  53.,  76.],\n",
       "       [  1.,  27.,   2.,  28.,  45.],\n",
       "       [  1.,  23.,   3.,  32.,  37.],\n",
       "       [  1.,  10.,   6.,  56.,  69.],\n",
       "       [  1.,  12.,  10.,  11.,  46.],\n",
       "       [  1.,  19.,   8.,  35.,  62.],\n",
       "       [  1.,  16.,   8.,  27.,  25.],\n",
       "       [  1.,  25.,   4.,  45.,  55.],\n",
       "       [  1.,  31.,   3.,  45.,  49.],\n",
       "       [  1.,  27.,   8.,  33.,  47.],\n",
       "       [  1.,  23.,  10.,  59., 101.],\n",
       "       [  1.,  19.,   5.,  34.,  69.],\n",
       "       [  1.,  21.,   5.,  29.,  67.],\n",
       "       [  1.,  25.,   9.,  26.,  57.],\n",
       "       [  1.,  18.,   4.,  48.,  70.],\n",
       "       [  1.,  23.,   3.,  37.,  52.],\n",
       "       [  1.,  29.,   5.,  31.,  53.],\n",
       "       [  1.,  15.,   6.,  15.,  42.],\n",
       "       [  1.,  18.,   6.,  28.,  56.],\n",
       "       [  1.,  19.,  10.,  15.,  65.],\n",
       "       [  1.,  28.,   7.,  45.,  57.],\n",
       "       [  1.,  14.,  10.,  19.,  53.],\n",
       "       [  1.,  18.,   7.,  19.,  14.],\n",
       "       [  1.,  17.,   4.,  47.,  82.],\n",
       "       [  1.,  26.,   8.,  53.,  98.],\n",
       "       [  1.,  16.,   5.,  29.,  63.],\n",
       "       [  1.,  21.,   2.,  48.,  65.],\n",
       "       [  1.,  23.,   7.,  57.,  99.],\n",
       "       [  1.,  26.,   9.,  14.,  29.],\n",
       "       [  1.,  27.,   8.,  33.,  47.],\n",
       "       [  1.,  27.,   4.,  53.,  69.],\n",
       "       [  1.,  12.,   9.,  40.,  69.],\n",
       "       [  1.,  21.,   9.,  45.,  63.],\n",
       "       [  1.,  29.,   5.,  19.,  36.],\n",
       "       [  1.,  24.,   9.,  13.,  45.],\n",
       "       [  1.,  30.,   2.,  60.,  48.],\n",
       "       [  1.,  24.,   4.,  14.,   9.],\n",
       "       [  1.,  19.,  10.,  38.,  76.],\n",
       "       [  1.,  23.,   3.,  50.,  87.],\n",
       "       [  1.,  20.,   8.,  58.,  71.],\n",
       "       [  1.,  19.,   7.,  38.,  77.],\n",
       "       [  1.,  20.,   3.,  46.,  77.],\n",
       "       [  1.,  27.,   3.,  11.,  31.],\n",
       "       [  1.,  28.,   1.,  54.,  32.],\n",
       "       [  1.,  26.,   2.,  47.,  42.],\n",
       "       [  1.,  18.,   5.,  16.,  42.],\n",
       "       [  1.,  20.,   4.,  11.,  39.],\n",
       "       [  1.,  24.,   7.,  47.,  73.],\n",
       "       [  1.,  13.,   7.,  31.,  46.],\n",
       "       [  1.,  27.,   3.,  11.,  31.],\n",
       "       [  1.,  17.,   8.,  56.,  73.],\n",
       "       [  1.,  28.,   9.,  10.,  35.],\n",
       "       [  1.,  16.,   9.,  41.,  94.],\n",
       "       [  1.,  26.,  10.,  55.,  75.],\n",
       "       [  1.,  24.,   7.,  47.,  73.],\n",
       "       [  1.,  19.,   8.,  35.,  70.],\n",
       "       [  1.,  26.,   6.,  18.,  28.],\n",
       "       [  1.,  23.,   3.,  32.,  37.],\n",
       "       [  1.,  26.,   2.,  58.,  63.],\n",
       "       [  1.,  21.,   3.,  13.,  27.],\n",
       "       [  1.,  23.,   3.,  50.,  87.],\n",
       "       [  1.,  24.,   6.,  41.,  65.],\n",
       "       [  1.,  16.,   5.,  29.,  63.],\n",
       "       [  1.,  32.,   8.,  60.,  66.],\n",
       "       [  1.,  26.,   9.,  14.,  29.],\n",
       "       [  1.,  28.,   1.,  54.,  32.],\n",
       "       [  1.,  26.,   9.,  14.,  29.],\n",
       "       [  1.,  20.,   5.,  23.,  34.],\n",
       "       [  1.,  16.,   5.,  29.,  63.],\n",
       "       [  1.,  19.,  10.,  38.,  76.],\n",
       "       [  1.,  17.,  10.,  51.,  84.],\n",
       "       [  1.,  16.,  10.,  41.,  66.],\n",
       "       [  1.,  12.,  10.,  11.,  46.],\n",
       "       [  1.,  19.,   3.,  22.,  30.],\n",
       "       [  1.,  16.,   5.,  29.,  63.],\n",
       "       [  1.,  17.,   3.,  14.,  26.],\n",
       "       [  1.,  19.,   8.,  35.,  70.],\n",
       "       [  1.,  24.,   5.,  36.,  51.],\n",
       "       [  1.,  29.,   1.,  14.,   2.],\n",
       "       [  1.,  18.,   2.,  22.,   7.],\n",
       "       [  1.,  18.,   5.,  16.,  42.],\n",
       "       [  1.,  13.,   3.,  37.,  60.],\n",
       "       [  1.,  29.,   4.,  46.,  61.],\n",
       "       [  1.,  26.,   7.,  16.,  46.],\n",
       "       [  1.,  27.,   4.,  53.,  69.],\n",
       "       [  1.,  20.,   8.,  58.,  71.],\n",
       "       [  1.,  24.,   4.,  31.,  49.],\n",
       "       [  1.,  20.,   2.,  32.,  37.],\n",
       "       [  1.,  18.,   4.,  45.,  65.],\n",
       "       [  1.,  28.,   3.,  50.,  49.],\n",
       "       [  1.,  20.,   5.,  53.,  74.],\n",
       "       [  1.,  20.,   2.,  32.,  37.],\n",
       "       [  1.,  19.,   5.,  34.,  69.],\n",
       "       [  1.,  24.,   8.,  27.,  43.],\n",
       "       [  1.,  25.,   6.,  20.,  25.],\n",
       "       [  1.,  28.,   3.,  39.,  49.],\n",
       "       [  1.,  25.,   9.,  54.,  74.],\n",
       "       [  1.,  22.,   3.,  38.,  61.],\n",
       "       [  1.,  10.,   6.,  18.,  50.],\n",
       "       [  1.,  24.,   3.,  35.,  32.],\n",
       "       [  1.,  20.,   5.,  23.,  34.],\n",
       "       [  1.,  21.,   4.,  24.,  46.],\n",
       "       [  1.,  23.,   6.,  50.,  74.],\n",
       "       [  1.,  22.,  10.,  33.,  43.],\n",
       "       [  1.,  28.,   1.,  54.,  32.],\n",
       "       [  1.,  18.,   5.,  16.,  42.],\n",
       "       [  1.,  17.,  10.,  51.,  84.],\n",
       "       [  1.,  27.,   2.,  47.,  40.],\n",
       "       [  1.,  13.,  10.,  56.,  88.],\n",
       "       [  1.,  23.,   3.,  32.,  37.],\n",
       "       [  1.,  24.,   7.,  29.,  50.],\n",
       "       [  1.,  18.,   4.,  48.,  70.],\n",
       "       [  1.,  17.,  10.,  52.,  75.],\n",
       "       [  1.,  25.,   6.,  20.,  25.],\n",
       "       [  1.,  17.,  10.,  52.,  75.],\n",
       "       [  1.,  13.,   7.,  49.,  84.],\n",
       "       [  1.,  17.,   3.,  14.,  26.],\n",
       "       [  1.,  25.,  10.,  43.,  76.],\n",
       "       [  1.,  10.,   6.,  18.,  50.],\n",
       "       [  1.,  15.,   7.,  31.,  60.],\n",
       "       [  1.,  30.,   3.,  36.,  30.],\n",
       "       [  1.,  21.,   6.,  42.,  59.],\n",
       "       [  1.,  17.,   4.,  32.,  69.],\n",
       "       [  1.,  11.,   5.,  24.,  45.],\n",
       "       [  1.,  29.,   4.,  46.,  61.],\n",
       "       [  1.,  25.,   3.,  16.,  22.],\n",
       "       [  1.,  19.,   8.,  35.,  62.],\n",
       "       [  1.,  25.,   6.,  14.,  22.],\n",
       "       [  1.,  22.,   3.,  38.,  61.],\n",
       "       [  1.,  23.,   3.,  10.,  15.],\n",
       "       [  1.,  19.,   3.,  22.,  30.],\n",
       "       [  1.,  24.,   7.,  47.,  73.],\n",
       "       [  1.,  18.,   4.,  48.,  70.],\n",
       "       [  1.,  28.,   3.,  39.,  49.],\n",
       "       [  1.,  12.,  10.,  11.,  46.],\n",
       "       [  1.,  12.,   5.,  39.,  76.],\n",
       "       [  1.,  15.,   3.,  31.,  55.],\n",
       "       [  1.,  12.,  10.,  11.,  46.],\n",
       "       [  1.,  29.,   8.,  12.,  39.],\n",
       "       [  1.,  16.,  10.,  41.,  66.],\n",
       "       [  1.,  11.,   5.,  24.,  45.],\n",
       "       [  1.,  18.,   9.,  22.,  63.],\n",
       "       [  1.,  19.,   8.,  35.,  70.],\n",
       "       [  1.,  29.,   1.,  14.,   2.],\n",
       "       [  1.,  16.,   8.,  27.,  25.],\n",
       "       [  1.,  24.,   3.,  35.,  32.],\n",
       "       [  1.,  17.,  10.,  51.,  84.],\n",
       "       [  1.,  15.,   8.,  51.,  90.],\n",
       "       [  1.,  21.,   2.,  48.,  65.],\n",
       "       [  1.,  27.,   2.,  22.,  49.],\n",
       "       [  1.,  20.,   3.,  46.,  77.],\n",
       "       [  1.,  28.,   3.,  46.,  44.],\n",
       "       [  1.,  17.,   7.,  29.,  67.],\n",
       "       [  1.,  12.,   5.,  39.,  76.],\n",
       "       [  1.,  24.,   7.,  29.,  50.],\n",
       "       [  1.,  25.,   6.,  14.,  22.],\n",
       "       [  1.,  18.,   4.,  49.,  65.],\n",
       "       [  1.,  20.,   7.,  46.,  64.],\n",
       "       [  1.,  16.,   3.,  27.,  56.],\n",
       "       [  1.,  21.,   7.,  44.,  84.],\n",
       "       [  1.,  20.,   5.,  53.,  74.],\n",
       "       [  1.,  21.,   4.,  56.,  81.],\n",
       "       [  1.,  28.,   9.,  10.,  35.],\n",
       "       [  1.,  23.,   9.,  15.,  45.],\n",
       "       [  1.,  15.,   7.,  33.,  63.],\n",
       "       [  1.,  22.,   4.,  21.,  50.],\n",
       "       [  1.,  18.,   6.,  28.,  56.],\n",
       "       [  1.,  15.,   6.,  15.,  42.],\n",
       "       [  1.,  19.,   8.,  35.,  62.],\n",
       "       [  1.,  12.,   5.,  39.,  76.],\n",
       "       [  1.,  20.,   5.,  24.,  52.],\n",
       "       [  1.,  21.,   9.,  45.,  63.],\n",
       "       [  1.,  25.,   4.,  24.,  28.],\n",
       "       [  1.,  19.,   3.,  22.,  30.],\n",
       "       [  1.,  18.,   4.,  48.,  70.],\n",
       "       [  1.,  24.,   4.,  31.,  49.],\n",
       "       [  1.,  24.,   3.,  35.,  32.]])"
      ]
     },
     "execution_count": 22,
     "metadata": {},
     "output_type": "execute_result"
    }
   ],
   "source": [
    "bootstrap_x[0]"
   ]
  },
  {
   "cell_type": "code",
   "execution_count": 23,
   "metadata": {},
   "outputs": [
    {
     "data": {
      "application/vnd.jupyter.widget-view+json": {
       "model_id": "f5436aea996a4a12b465eb0a3b9c57df",
       "version_major": 2,
       "version_minor": 0
      },
      "text/plain": [
       "  0%|          | 0/100000 [00:00<?, ?it/s]"
      ]
     },
     "metadata": {},
     "output_type": "display_data"
    }
   ],
   "source": [
    "# Сделаем бустреп коэффициенты, обучим регрессию на всех подвыборках\n",
    "coefs = np.empty((X.shape[1]-1,))\n",
    "for subarr in tqdm(bootstrap_x):\n",
    "    x_train = subarr[:, :-1]\n",
    "    y_train = subarr[:, -1]\n",
    "    coefs_ = np.linalg.inv(x_train.T.dot(x_train)).dot(x_train.T).dot(y_train).ravel()\n",
    "    coefs = np.vstack((coefs, coefs_))\n",
    "coefs = coefs[1:, :]"
   ]
  },
  {
   "cell_type": "code",
   "execution_count": 24,
   "metadata": {},
   "outputs": [
    {
     "data": {
      "text/plain": [
       "array([[30.29233906, -1.12445427,  2.15719728,  1.03366882],\n",
       "       [26.05474865, -1.02956911,  2.28313991,  1.04144613],\n",
       "       [27.92481193, -0.87479226,  2.34081337,  0.95323395],\n",
       "       ...,\n",
       "       [35.2342472 , -1.30763699,  1.95964009,  1.03248634],\n",
       "       [33.52815044, -1.20274598,  1.81206862,  1.07679123],\n",
       "       [28.77075547, -1.05072255,  2.08890643,  1.02265156]])"
      ]
     },
     "execution_count": 24,
     "metadata": {},
     "output_type": "execute_result"
    }
   ],
   "source": [
    "coefs"
   ]
  },
  {
   "cell_type": "code",
   "execution_count": 25,
   "metadata": {},
   "outputs": [
    {
     "data": {
      "image/png": "[encoded data removed]",
      "text/plain": [
       "<Figure size 720x360 with 1 Axes>"
      ]
     },
     "metadata": {
      "needs_background": "light"
     },
     "output_type": "display_data"
    },
    {
     "data": {
      "image/png": "[encoded data removed]",
      "text/plain": [
       "<Figure size 720x360 with 1 Axes>"
      ]
     },
     "metadata": {
      "needs_background": "light"
     },
     "output_type": "display_data"
    },
    {
     "data": {
      "image/png": "[encoded data removed]",
      "text/plain": [
       "<Figure size 720x360 with 1 Axes>"
      ]
     },
     "metadata": {
      "needs_background": "light"
     },
     "output_type": "display_data"
    },
    {
     "data": {
      "image/png": "[encoded data removed]",
      "text/plain": [
       "<Figure size 720x360 with 1 Axes>"
      ]
     },
     "metadata": {
      "needs_background": "light"
     },
     "output_type": "display_data"
    }
   ],
   "source": [
    "# Распределение коэффициентов\n",
    "for i in range(0, coefs.shape[1]):\n",
    "    plt.figure(figsize=(10, 5))\n",
    "    plt.hist(coefs[:, i]-my_model.w.ravel()[i], bins=50)\n",
    "    plt.pause(1)"
   ]
  },
  {
   "cell_type": "code",
   "execution_count": 26,
   "metadata": {},
   "outputs": [
    {
     "data": {
      "text/plain": [
       "Index(['CLASS', 'EXPN', 'INCOME', 'TEST'], dtype='object')"
      ]
     },
     "execution_count": 26,
     "metadata": {},
     "output_type": "execute_result"
    }
   ],
   "source": [
    "data.columns"
   ]
  },
  {
   "cell_type": "code",
   "execution_count": 27,
   "metadata": {},
   "outputs": [
    {
     "name": "stdout",
     "output_type": "stream",
     "text": [
      "19.891541437054162 <= Intercept <= 38.62005468539594\n",
      "-1.3960388710861733 <= CLASS <= -0.7557277259356269\n",
      "1.3922540002633887 <= EXPN <= 2.6982217018570083\n",
      "0.9440931814885763 <= INCOME <= 1.1571424082537032\n"
     ]
    }
   ],
   "source": [
    "# Построим бутстреп доверительные интервалы, сравним с истинными\n",
    "for i in range(X.shape[1]-1):\n",
    "    left, right = np.quantile(coefs[:, i], [0.025, 0.975])\n",
    "    \n",
    "    if i == 0:\n",
    "        print(f'{left} <= Intercept <= {right}')\n",
    "    else:\n",
    "        column = data.columns[i-1]\n",
    "        print(f'{left} <= {column} <= {right}')"
   ]
  },
  {
   "cell_type": "code",
   "execution_count": 28,
   "metadata": {},
   "outputs": [
    {
     "data": {
      "text/html": [
       "<div>\n",
       "<style scoped>\n",
       "    .dataframe tbody tr th:only-of-type {\n",
       "        vertical-align: middle;\n",
       "    }\n",
       "\n",
       "    .dataframe tbody tr th {\n",
       "        vertical-align: top;\n",
       "    }\n",
       "\n",
       "    .dataframe thead th {\n",
       "        text-align: right;\n",
       "    }\n",
       "</style>\n",
       "<table border=\"1\" class=\"dataframe\">\n",
       "  <thead>\n",
       "    <tr style=\"text-align: right;\">\n",
       "      <th></th>\n",
       "      <th>coef</th>\n",
       "      <th>se_coef</th>\n",
       "      <th>t</th>\n",
       "      <th>pvals</th>\n",
       "      <th>[0.025</th>\n",
       "      <th>0.975]</th>\n",
       "      <th>df</th>\n",
       "      <th>n_obs</th>\n",
       "      <th>F_stat</th>\n",
       "      <th>Fpval</th>\n",
       "      <th>R-squared</th>\n",
       "      <th>AIC</th>\n",
       "      <th>BIC</th>\n",
       "    </tr>\n",
       "  </thead>\n",
       "  <tbody>\n",
       "    <tr>\n",
       "      <th>Intercept</th>\n",
       "      <td>29.178617</td>\n",
       "      <td>4.847205</td>\n",
       "      <td>6.019679</td>\n",
       "      <td>8.460552e-09</td>\n",
       "      <td>19.619245</td>\n",
       "      <td>38.737989</td>\n",
       "      <td>196</td>\n",
       "      <td>200</td>\n",
       "      <td>176.596469</td>\n",
       "      <td>1.110223e-16</td>\n",
       "      <td>0.729949</td>\n",
       "      <td>1537.496863</td>\n",
       "      <td>1550.690133</td>\n",
       "    </tr>\n",
       "    <tr>\n",
       "      <th>CLASS</th>\n",
       "      <td>-1.072502</td>\n",
       "      <td>0.163173</td>\n",
       "      <td>-6.572811</td>\n",
       "      <td>4.361339e-10</td>\n",
       "      <td>-1.394302</td>\n",
       "      <td>-0.750703</td>\n",
       "      <td>196</td>\n",
       "      <td>200</td>\n",
       "      <td>176.596469</td>\n",
       "      <td>1.110223e-16</td>\n",
       "      <td>0.729949</td>\n",
       "      <td>1537.496863</td>\n",
       "      <td>1550.690133</td>\n",
       "    </tr>\n",
       "    <tr>\n",
       "      <th>INCOME</th>\n",
       "      <td>1.048991</td>\n",
       "      <td>0.052599</td>\n",
       "      <td>19.943008</td>\n",
       "      <td>0.000000e+00</td>\n",
       "      <td>0.945257</td>\n",
       "      <td>1.152724</td>\n",
       "      <td>196</td>\n",
       "      <td>200</td>\n",
       "      <td>176.596469</td>\n",
       "      <td>1.110223e-16</td>\n",
       "      <td>0.729949</td>\n",
       "      <td>1537.496863</td>\n",
       "      <td>1550.690133</td>\n",
       "    </tr>\n",
       "    <tr>\n",
       "      <th>EXPN</th>\n",
       "      <td>2.050219</td>\n",
       "      <td>0.327487</td>\n",
       "      <td>6.260459</td>\n",
       "      <td>2.373830e-09</td>\n",
       "      <td>1.404368</td>\n",
       "      <td>2.696070</td>\n",
       "      <td>196</td>\n",
       "      <td>200</td>\n",
       "      <td>176.596469</td>\n",
       "      <td>1.110223e-16</td>\n",
       "      <td>0.729949</td>\n",
       "      <td>1537.496863</td>\n",
       "      <td>1550.690133</td>\n",
       "    </tr>\n",
       "  </tbody>\n",
       "</table>\n",
       "</div>"
      ],
      "text/plain": [
       "                coef   se_coef          t         pvals     [0.025     0.975]  \\\n",
       "Intercept  29.178617  4.847205   6.019679  8.460552e-09  19.619245  38.737989   \n",
       "CLASS      -1.072502  0.163173  -6.572811  4.361339e-10  -1.394302  -0.750703   \n",
       "INCOME      1.048991  0.052599  19.943008  0.000000e+00   0.945257   1.152724   \n",
       "EXPN        2.050219  0.327487   6.260459  2.373830e-09   1.404368   2.696070   \n",
       "\n",
       "            df  n_obs      F_stat         Fpval  R-squared          AIC  \\\n",
       "Intercept  196    200  176.596469  1.110223e-16   0.729949  1537.496863   \n",
       "CLASS      196    200  176.596469  1.110223e-16   0.729949  1537.496863   \n",
       "INCOME     196    200  176.596469  1.110223e-16   0.729949  1537.496863   \n",
       "EXPN       196    200  176.596469  1.110223e-16   0.729949  1537.496863   \n",
       "\n",
       "                   BIC  \n",
       "Intercept  1550.690133  \n",
       "CLASS      1550.690133  \n",
       "INCOME     1550.690133  \n",
       "EXPN       1550.690133  "
      ]
     },
     "execution_count": 28,
     "metadata": {},
     "output_type": "execute_result"
    }
   ],
   "source": [
    "my_model.summary()"
   ]
  },
  {
   "cell_type": "markdown",
   "metadata": {
    "collapsed": true
   },
   "source": [
    "### Интервалы очень близкими получаются, бутстреп хорош, но вычислительно может быть затратным"
   ]
  },
  {
   "cell_type": "code",
   "execution_count": 29,
   "metadata": {},
   "outputs": [
    {
     "data": {
      "text/html": [
       "<style>\n",
       "\n",
       "div #notebook {\n",
       "    background-color: #FFF9EE;\n",
       "    margin: auto;\n",
       "}\n",
       "\n",
       "#notebook-container {\n",
       "    padding: 15px;\n",
       "    background-color: #FFFAFA;\n",
       "    min-height: 0;\n",
       "    -webkit-box-shadow: 0px 0px 12px 1px rgba(87, 87, 87, 0.2);\n",
       "    box-shadow: 0px 0px 12px 1px rgba(87, 87, 87, 0.2);\n",
       "}\n",
       "\n",
       "div.cell { /* set cell width to about 80 chars */\n",
       "    background-color: #FFFAFA;\n",
       "}\n",
       "\n",
       "div.cell.border-box-sizing.code_cell.running { \n",
       "    border: 3px solid #111;\n",
       "}\n",
       "\n",
       "div.cell.code_cell {\n",
       "    background-color: #FFFAFA ;\n",
       "    border-radius: 5px;\n",
       "    padding: 1em;\n",
       "    margin-top: 1em;\n",
       "}\n",
       "\n",
       "div.text_cell_render{\n",
       "    font-family: 'Times New Roman';\n",
       "    color: #B8860B\n",
       "}\n",
       "\n",
       ".text_cell_render h1 {\n",
       "    font-family: 'Times New Roman';\n",
       "    font-weight: 300;\n",
       "    font-size: 40pt;\n",
       "    line-height: 100%;\n",
       "    color: #8B4513;\n",
       "    font-style: italic;\n",
       "}\n",
       "\n",
       ".text_cell_render h2 {\n",
       "    font-family: 'Times New Roman';\n",
       "    font-weight: 700;\n",
       "    font-size: 30pt;\n",
       "    line-height: 100%;\n",
       "    color: #8B4513;\n",
       "    font-style: italic;\n",
       "}\n",
       "\n",
       ".text_cell_render h3 {\n",
       "    font-family: 'Times New Roman';\n",
       "    font-size: 25pt;\n",
       "    margin-bottom: 3px;\n",
       "    font-style: italic;\n",
       "    color: #8B4513;\n",
       "}\n",
       "\n",
       ".text_cell_render h4 {\n",
       "    font-family: 'Times New Roman';\n",
       "    font-size: 20pt;\n",
       "    color: #8B4513;\n",
       "    font-style: italic;\n",
       "}\n",
       "\n",
       ".text_cell_render h5 {\n",
       "    font-family: 'Times New Roman';\n",
       "    font-weight: 300;\n",
       "    font-size: 16pt;\n",
       "    color: #8B4513;\n",
       "    font-style: italic;\n",
       "}\n",
       "\n",
       ".text_cell_render h6 {\n",
       "    font-family: 'Times New Roman';\n",
       "    font-weight: 300;\n",
       "    font-size: 10pt;\n",
       "    color: #8B4513;\n",
       "    font-style: italic;\n",
       "}\n",
       "\n",
       ".text_cell_render p {\n",
       "    font-family: 'Times New Roman';\n",
       "    font-size: 15pt;\n",
       "    color: black;\n",
       "    text-align: justify;\n",
       "    text-justify: inter-word;\n",
       "    line-height: 1.5;\n",
       "}\n",
       "\n",
       "mark {\n",
       "  background: #D5EAFF;\n",
       "  color: black;\n",
       "}\n",
       "\n",
       ".output_wrapper, .output {\n",
       "    height:auto !important;\n",
       "    max-height:2000px;  /* your desired max-height here */\n",
       "}\n",
       "\n",
       ".CodeMirror{\n",
       "    background-color: #FFFAFA;\n",
       "}\n",
       "</style>"
      ],
      "text/plain": [
       "<IPython.core.display.HTML object>"
      ]
     },
     "execution_count": 29,
     "metadata": {},
     "output_type": "execute_result"
    }
   ],
   "source": [
    "with open('./style.css') as f:\n",
    "    style = f.read()\n",
    "HTML(style)"
   ]
  },
  {
   "cell_type": "markdown",
   "metadata": {},
   "source": [
    " "
   ]
  }
 ],
 "metadata": {
  "kernelspec": {
   "display_name": "Python 3",
   "language": "python",
   "name": "python3"
  },
  "language_info": {
   "codemirror_mode": {
    "name": "ipython",
    "version": 3
   },
   "file_extension": ".py",
   "mimetype": "text/x-python",
   "name": "python",
   "nbconvert_exporter": "python",
   "pygments_lexer": "ipython3",
   "version": "3.7.8"
  }
 },
 "nbformat": 4,
 "nbformat_minor": 2
}
