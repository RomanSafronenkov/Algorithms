{
 "cells": [
  {
   "cell_type": "markdown",
   "id": "eb46fe0f",
   "metadata": {},
   "source": [
    "# Autoencoder"
   ]
  },
  {
   "cell_type": "code",
   "execution_count": 1,
   "id": "1b01ea20",
   "metadata": {},
   "outputs": [],
   "source": [
    "import numpy as np\n",
    "import pandas as pd\n",
    "from typing import Union, Tuple\n",
    "\n",
    "import time\n",
    "import copy\n",
    "import matplotlib.pyplot as plt\n",
    "from abc import ABC, abstractmethod\n",
    "\n",
    "import shutil\n",
    "import os\n",
    "import pickle\n",
    "from zipfile import ZipFile"
   ]
  },
  {
   "cell_type": "code",
   "execution_count": 2,
   "id": "3d64df9d",
   "metadata": {},
   "outputs": [
    {
     "data": {
      "text/html": [
       "<div>\n",
       "<style scoped>\n",
       "    .dataframe tbody tr th:only-of-type {\n",
       "        vertical-align: middle;\n",
       "    }\n",
       "\n",
       "    .dataframe tbody tr th {\n",
       "        vertical-align: top;\n",
       "    }\n",
       "\n",
       "    .dataframe thead th {\n",
       "        text-align: right;\n",
       "    }\n",
       "</style>\n",
       "<table border=\"1\" class=\"dataframe\">\n",
       "  <thead>\n",
       "    <tr style=\"text-align: right;\">\n",
       "      <th></th>\n",
       "      <th>label</th>\n",
       "      <th>pixel0</th>\n",
       "      <th>pixel1</th>\n",
       "      <th>pixel2</th>\n",
       "      <th>pixel3</th>\n",
       "      <th>pixel4</th>\n",
       "      <th>pixel5</th>\n",
       "      <th>pixel6</th>\n",
       "      <th>pixel7</th>\n",
       "      <th>pixel8</th>\n",
       "      <th>...</th>\n",
       "      <th>pixel774</th>\n",
       "      <th>pixel775</th>\n",
       "      <th>pixel776</th>\n",
       "      <th>pixel777</th>\n",
       "      <th>pixel778</th>\n",
       "      <th>pixel779</th>\n",
       "      <th>pixel780</th>\n",
       "      <th>pixel781</th>\n",
       "      <th>pixel782</th>\n",
       "      <th>pixel783</th>\n",
       "    </tr>\n",
       "  </thead>\n",
       "  <tbody>\n",
       "    <tr>\n",
       "      <th>0</th>\n",
       "      <td>1</td>\n",
       "      <td>0</td>\n",
       "      <td>0</td>\n",
       "      <td>0</td>\n",
       "      <td>0</td>\n",
       "      <td>0</td>\n",
       "      <td>0</td>\n",
       "      <td>0</td>\n",
       "      <td>0</td>\n",
       "      <td>0</td>\n",
       "      <td>...</td>\n",
       "      <td>0</td>\n",
       "      <td>0</td>\n",
       "      <td>0</td>\n",
       "      <td>0</td>\n",
       "      <td>0</td>\n",
       "      <td>0</td>\n",
       "      <td>0</td>\n",
       "      <td>0</td>\n",
       "      <td>0</td>\n",
       "      <td>0</td>\n",
       "    </tr>\n",
       "    <tr>\n",
       "      <th>1</th>\n",
       "      <td>0</td>\n",
       "      <td>0</td>\n",
       "      <td>0</td>\n",
       "      <td>0</td>\n",
       "      <td>0</td>\n",
       "      <td>0</td>\n",
       "      <td>0</td>\n",
       "      <td>0</td>\n",
       "      <td>0</td>\n",
       "      <td>0</td>\n",
       "      <td>...</td>\n",
       "      <td>0</td>\n",
       "      <td>0</td>\n",
       "      <td>0</td>\n",
       "      <td>0</td>\n",
       "      <td>0</td>\n",
       "      <td>0</td>\n",
       "      <td>0</td>\n",
       "      <td>0</td>\n",
       "      <td>0</td>\n",
       "      <td>0</td>\n",
       "    </tr>\n",
       "    <tr>\n",
       "      <th>2</th>\n",
       "      <td>1</td>\n",
       "      <td>0</td>\n",
       "      <td>0</td>\n",
       "      <td>0</td>\n",
       "      <td>0</td>\n",
       "      <td>0</td>\n",
       "      <td>0</td>\n",
       "      <td>0</td>\n",
       "      <td>0</td>\n",
       "      <td>0</td>\n",
       "      <td>...</td>\n",
       "      <td>0</td>\n",
       "      <td>0</td>\n",
       "      <td>0</td>\n",
       "      <td>0</td>\n",
       "      <td>0</td>\n",
       "      <td>0</td>\n",
       "      <td>0</td>\n",
       "      <td>0</td>\n",
       "      <td>0</td>\n",
       "      <td>0</td>\n",
       "    </tr>\n",
       "    <tr>\n",
       "      <th>3</th>\n",
       "      <td>4</td>\n",
       "      <td>0</td>\n",
       "      <td>0</td>\n",
       "      <td>0</td>\n",
       "      <td>0</td>\n",
       "      <td>0</td>\n",
       "      <td>0</td>\n",
       "      <td>0</td>\n",
       "      <td>0</td>\n",
       "      <td>0</td>\n",
       "      <td>...</td>\n",
       "      <td>0</td>\n",
       "      <td>0</td>\n",
       "      <td>0</td>\n",
       "      <td>0</td>\n",
       "      <td>0</td>\n",
       "      <td>0</td>\n",
       "      <td>0</td>\n",
       "      <td>0</td>\n",
       "      <td>0</td>\n",
       "      <td>0</td>\n",
       "    </tr>\n",
       "    <tr>\n",
       "      <th>4</th>\n",
       "      <td>0</td>\n",
       "      <td>0</td>\n",
       "      <td>0</td>\n",
       "      <td>0</td>\n",
       "      <td>0</td>\n",
       "      <td>0</td>\n",
       "      <td>0</td>\n",
       "      <td>0</td>\n",
       "      <td>0</td>\n",
       "      <td>0</td>\n",
       "      <td>...</td>\n",
       "      <td>0</td>\n",
       "      <td>0</td>\n",
       "      <td>0</td>\n",
       "      <td>0</td>\n",
       "      <td>0</td>\n",
       "      <td>0</td>\n",
       "      <td>0</td>\n",
       "      <td>0</td>\n",
       "      <td>0</td>\n",
       "      <td>0</td>\n",
       "    </tr>\n",
       "  </tbody>\n",
       "</table>\n",
       "<p>5 rows × 785 columns</p>\n",
       "</div>"
      ],
      "text/plain": [
       "   label  pixel0  pixel1  pixel2  pixel3  pixel4  pixel5  pixel6  pixel7  \\\n",
       "0      1       0       0       0       0       0       0       0       0   \n",
       "1      0       0       0       0       0       0       0       0       0   \n",
       "2      1       0       0       0       0       0       0       0       0   \n",
       "3      4       0       0       0       0       0       0       0       0   \n",
       "4      0       0       0       0       0       0       0       0       0   \n",
       "\n",
       "   pixel8  ...  pixel774  pixel775  pixel776  pixel777  pixel778  pixel779  \\\n",
       "0       0  ...         0         0         0         0         0         0   \n",
       "1       0  ...         0         0         0         0         0         0   \n",
       "2       0  ...         0         0         0         0         0         0   \n",
       "3       0  ...         0         0         0         0         0         0   \n",
       "4       0  ...         0         0         0         0         0         0   \n",
       "\n",
       "   pixel780  pixel781  pixel782  pixel783  \n",
       "0         0         0         0         0  \n",
       "1         0         0         0         0  \n",
       "2         0         0         0         0  \n",
       "3         0         0         0         0  \n",
       "4         0         0         0         0  \n",
       "\n",
       "[5 rows x 785 columns]"
      ]
     },
     "execution_count": 2,
     "metadata": {},
     "output_type": "execute_result"
    }
   ],
   "source": [
    "data_path = './data/digit_data/'\n",
    "\n",
    "if os.path.exists(data_path):\n",
    "    shutil.rmtree(data_path)\n",
    "    \n",
    "with ZipFile('./data/digit-recognizer.zip') as f:\n",
    "    f.extractall(data_path)\n",
    "    \n",
    "train_set = pd.read_csv('./data/digit_data/train.csv')\n",
    "\n",
    "shutil.rmtree(data_path)\n",
    "train_set.head()"
   ]
  },
  {
   "cell_type": "code",
   "execution_count": 3,
   "id": "f7866244",
   "metadata": {},
   "outputs": [
    {
     "data": {
      "text/plain": [
       "(42000, 784)"
      ]
     },
     "execution_count": 3,
     "metadata": {},
     "output_type": "execute_result"
    }
   ],
   "source": [
    "train_data = train_set.drop('label', axis=1).values\n",
    "train_data = (train_data.astype(float) - 127.5) / 127.5 # normalize to scale [-1, 1]\n",
    "train_data.shape"
   ]
  },
  {
   "cell_type": "code",
   "execution_count": 5,
   "id": "c619866b",
   "metadata": {},
   "outputs": [],
   "source": [
    "def mse(y_true, y_pred):\n",
    "    '''\n",
    "    Compute mean squared error, y_pred - vector of size n_objects\n",
    "    '''\n",
    "    return np.mean(np.power(y_true - y_pred, 2))\n",
    "\n",
    "def mse_derivative(y_true, y_pred):\n",
    "    '''\n",
    "    Compute derivative of MSE\n",
    "    '''\n",
    "    return -2 * (y_true - y_pred) / len(y_true)"
   ]
  },
  {
   "cell_type": "code",
   "execution_count": 10,
   "id": "446400be",
   "metadata": {},
   "outputs": [],
   "source": [
    "def leaky_relu(z: Union[np.array, float, int, list], alpha=0.2) -> np.array:\n",
    "    \"\"\"\n",
    "    Leaky ReLU function\n",
    "    \"\"\"\n",
    "    return np.where(z >= 0, z, alpha * z)\n",
    "\n",
    "def leaky_relu_derivative(z: Union[np.array, float, int, list], alpha=0.2) -> np.array:\n",
    "    \"\"\"\n",
    "    Leaky ReLU function derivative\n",
    "    \"\"\"\n",
    "    return np.where(z >= 0, 1, alpha)   \n",
    "\n",
    "def tanh(z: Union[np.array, float, int, list]) -> Union[np.array, float]:\n",
    "    \"\"\"\n",
    "    Tanh function\n",
    "    \"\"\"\n",
    "    return np.tanh(z)\n",
    "\n",
    "def tanh_derivative(z: Union[np.array, float, int, list]) -> Union[np.array, float]:\n",
    "    \"\"\"\n",
    "    Tanh function derivative\n",
    "    \"\"\"\n",
    "    return 1 - np.tanh(z) ** 2"
   ]
  },
  {
   "cell_type": "code",
   "execution_count": 7,
   "id": "d99e4ebb",
   "metadata": {},
   "outputs": [],
   "source": [
    "class BaseOptimizer(ABC):\n",
    "    @abstractmethod\n",
    "    def __init__(self) -> None:\n",
    "        pass\n",
    "\n",
    "    @abstractmethod\n",
    "    def set_weight(self, weight: np.array) -> None:\n",
    "        pass\n",
    "\n",
    "    @abstractmethod\n",
    "    def step(self, grad: np.array) -> np.array:\n",
    "        pass\n",
    "    \n",
    "\n",
    "class ADAM(BaseOptimizer):\n",
    "    \"\"\"\n",
    "    Implements Adam algorithm.\n",
    "    learning_rate (float, optional) – learning rate (default: 1e-3)\n",
    "    beta1, beta2 (Tuple[float, float], optional) –\n",
    "    coefficients used for computing running averages of gradient and its square (default: (0.9, 0.999))\n",
    "    eps (float, optional) – term added to the denominator to improve numerical stability (default: 1e-8)\n",
    "    \"\"\"\n",
    "\n",
    "    def __init__(self, beta1: float = 0.9, beta2: float = 0.999, eps: float = 1e-8,\n",
    "                 learning_rate: float = 3e-4, weight_decay: float = 0) -> None:\n",
    "        self.beta1 = beta1\n",
    "        self.beta2 = beta2\n",
    "        self.eps = eps\n",
    "        self.learning_rate = learning_rate\n",
    "        self.weight_decay = weight_decay\n",
    "\n",
    "        self.EMA1 = None\n",
    "        self.EMA2 = None\n",
    "\n",
    "        self.weight = None\n",
    "\n",
    "    def set_weight(self, weight: np.array) -> None:\n",
    "        self.weight = weight.copy()\n",
    "        self.EMA1 = np.zeros(shape=self.weight.shape)\n",
    "        self.EMA2 = np.zeros(shape=self.weight.shape)\n",
    "\n",
    "    def step(self, grad: np.array) -> np.array:\n",
    "        assert self.weight is not None, 'You should set the weight'\n",
    "        grad = grad.copy() + self.weight_decay * self.weight\n",
    "        self.EMA1 = (1 - self.beta1) * grad + self.beta1 * self.EMA1\n",
    "        self.EMA2 = (1 - self.beta2) * grad ** 2 + self.beta2 * self.EMA2\n",
    "        self.weight -= self.learning_rate * self.EMA1 / (np.sqrt(self.EMA2) + self.eps)\n",
    "\n",
    "        return self.weight.copy()"
   ]
  },
  {
   "cell_type": "code",
   "execution_count": 8,
   "id": "1dd5383b",
   "metadata": {},
   "outputs": [],
   "source": [
    "class BaseLayer(ABC):\n",
    "    @abstractmethod\n",
    "    def __init__(self) -> None:\n",
    "        pass\n",
    "\n",
    "    def __call__(self, x: np.array, grad: bool = True) -> np.array:\n",
    "        return self.forward(x, grad)\n",
    "\n",
    "    @abstractmethod\n",
    "    def forward(self, x: np.array, grad: bool = True) -> np.array:\n",
    "        pass\n",
    "\n",
    "    @abstractmethod\n",
    "    def backward(self, output_error: np.array) -> np.array:\n",
    "        pass\n",
    "\n",
    "\n",
    "class Linear(BaseLayer):\n",
    "    \"\"\"\n",
    "    Linear class permorms ordinary FC layer in neural networks\n",
    "    Parameters:\n",
    "    n_input - size of input neurons\n",
    "    n_output - size of output neurons\n",
    "    Methods:\n",
    "    set_optimizer(optimizer) - is used for setting an optimizer for gradient descent\n",
    "    forward(x) - performs forward pass of the layer\n",
    "    backward(output_error, learning_rate) - performs backward pass of the layer\n",
    "    \"\"\"\n",
    "\n",
    "    def __init__(self, n_input: int, n_output: int) -> None:\n",
    "        super().__init__()\n",
    "        self.input = None\n",
    "        self.n_input = n_input\n",
    "        self.n_output = n_output\n",
    "        \n",
    "        limit = 1 / np.sqrt(self.n_input) \n",
    "        self.w = np.random.uniform(-limit, limit, size=(n_input, n_output))\n",
    "        self.b = np.zeros(shape=(1, n_output))\n",
    "\n",
    "        self.w_optimizer = None\n",
    "        self.b_optimizer = None\n",
    "\n",
    "    def set_optimizer(self, optimizer) -> None:\n",
    "        self.w_optimizer = copy.copy(optimizer)\n",
    "        self.b_optimizer = copy.copy(optimizer)\n",
    "\n",
    "        self.w_optimizer.set_weight(self.w)\n",
    "        self.b_optimizer.set_weight(self.b)\n",
    "\n",
    "    def forward(self, x: np.array, grad: bool = True) -> np.array:\n",
    "        self.input = x\n",
    "        return x.dot(self.w) + self.b\n",
    "\n",
    "    def backward(self, output_error: np.array) -> np.array:\n",
    "        assert self.w_optimizer is not None and self.b_optimizer is not None, 'You should set an optimizer'\n",
    "        w_grad = self.input.T.dot(output_error)\n",
    "        b_grad = np.ones((1, len(output_error))).dot(output_error)\n",
    "        input_error = output_error.dot(self.w.T)\n",
    "\n",
    "        self.w = self.w_optimizer.step(w_grad)\n",
    "        self.b = self.b_optimizer.step(b_grad)\n",
    "        return input_error\n",
    "\n",
    "\n",
    "class Activation(BaseLayer):\n",
    "    \"\"\"\n",
    "    Activation class is used for activation function of the FC layer\n",
    "    Params:\n",
    "    activation_function - activation function (e.g. sigmoid, RElU, tanh)\n",
    "    activation_derivative - derivative of the activation function\n",
    "    Methods:\n",
    "    forward(x) - performs forward pass of the layer\n",
    "    backward(output_error, learning_rate) - performs backward pass of the layer\n",
    "    \"\"\"\n",
    "\n",
    "    def __init__(self, activation_function: callable, activation_derivative: callable) -> None:\n",
    "        super().__init__()\n",
    "        self.input = None\n",
    "        self.activation = activation_function\n",
    "        self.derivative = activation_derivative\n",
    "\n",
    "    def forward(self, x: np.array, grad: bool = True) -> np.array:\n",
    "        self.input = x\n",
    "        return self.activation(x)\n",
    "\n",
    "    def backward(self, output_error: np.array) -> np.array:\n",
    "        return output_error * self.derivative(self.input)"
   ]
  },
  {
   "cell_type": "code",
   "execution_count": 29,
   "id": "ff74a289",
   "metadata": {},
   "outputs": [],
   "source": [
    "class BatchNorm(BaseLayer):\n",
    "    \"\"\"\n",
    "    num_features – number of features or channels CC of the input\n",
    "    num_dims – number of input features\n",
    "    eps – a value added to the denominator for numerical stability. Default: 1e-5\n",
    "    momentum – the value used for the running_mean and running_var computation.\n",
    "    Can be set to None for cumulative moving average (i.e. simple average). Default: 0.1\n",
    "    affine – a boolean value that when set to True, this module has learnable affine parameters. Default: True\n",
    "\n",
    "    https://arxiv.org/pdf/1502.03167.pdf'\n",
    "    \"\"\"\n",
    "\n",
    "    def __init__(self, num_features, num_dims, eps=1e-05, momentum=0.1, affine=True):\n",
    "        super().__init__()\n",
    "        self.input = None\n",
    "        self.x_centered = None\n",
    "        self.x_std = None\n",
    "        self.num_features = num_features\n",
    "        self.eps = eps\n",
    "        self.momentum = momentum\n",
    "        self.affine = affine\n",
    "\n",
    "        if num_dims == 2:\n",
    "            shape = (1, num_features)\n",
    "            self.axis = 0\n",
    "        elif num_dims == 4:\n",
    "            shape = (1, num_features, 1, 1)\n",
    "            self.axis = (0, 2, 3)\n",
    "        else:\n",
    "            raise ValueError(\"num_dims must be in (2, 4)\")\n",
    "\n",
    "        self.gamma = np.ones(shape=shape)\n",
    "        self.beta = np.zeros(shape=shape)\n",
    "        self.gamma_optimizer = None\n",
    "        self.beta_optimizer = None\n",
    "\n",
    "        self.moving_mean = np.zeros(shape=shape)\n",
    "        self.moving_var = np.zeros(shape=shape)\n",
    "\n",
    "    def set_optimizer(self, optimizer) -> None:\n",
    "        self.gamma_optimizer = copy.copy(optimizer)\n",
    "        self.gamma_optimizer.set_weight(self.gamma)\n",
    "        if self.affine:\n",
    "            self.beta_optimizer = copy.copy(optimizer)\n",
    "            self.beta_optimizer.set_weight(self.beta)\n",
    "\n",
    "    def forward(self, x: np.array, grad: bool = True) -> np.array:\n",
    "        self.input = x\n",
    "        if not grad:\n",
    "            self.x_centered = (x - self.moving_mean)\n",
    "            self.x_std = np.sqrt(self.moving_var + self.eps)\n",
    "            x_hat = self.x_centered / self.x_std\n",
    "        else:\n",
    "            assert len(x.shape) in (2, 4)\n",
    "\n",
    "            mean = x.mean(axis=self.axis, keepdims=True)\n",
    "            var = ((x - mean) ** 2).mean(axis=self.axis, keepdims=True)\n",
    "\n",
    "            self.x_centered = (x - mean)\n",
    "            self.x_std = np.sqrt(var + self.eps)\n",
    "            x_hat = (x - mean) / np.sqrt(var + self.eps)\n",
    "            self.moving_mean = self.momentum * self.moving_mean + (1 - self.momentum) * mean\n",
    "            self.moving_var = self.momentum * self.moving_var + (1 - self.momentum) * var\n",
    "\n",
    "        y = self.gamma * x_hat + self.beta\n",
    "        return y\n",
    "\n",
    "    def backward(self, output_error: np.array) -> np.array:\n",
    "        assert self.gamma_optimizer is not None, 'You should set an optimizer'\n",
    "\n",
    "        gamma_grad = np.sum(output_error * self.x_centered / self.x_std, axis=self.axis, keepdims=True)\n",
    "        batch_size = output_error.shape[0]\n",
    "\n",
    "        # following lines are got from the original paper, they are the same as final version for input error\n",
    "        #\n",
    "        # dldx = output_error * self.gamma\n",
    "        # dldsigma2 = np.sum(dldx * self.x_centered * (-1/2) * (self.x_std ** -3), axis=0)\n",
    "        # dldmu = np.sum((dldx * (-1/self.x_std)), axis=0) + dldsigma2 * np.sum(-2*self.x_centered, axis=0) / batch_size\n",
    "        # input_error = dldx / self.x_std + dldsigma2 * 2 * self.x_centered / batch_size + dldmu / batch_size\n",
    "\n",
    "        input_error = (1 / batch_size) * self.gamma / self.x_std * \\\n",
    "                      (batch_size * output_error - np.sum(output_error, axis=self.axis, keepdims=True) -\n",
    "                       self.x_centered / self.x_std ** 2 * np.sum(output_error * self.x_centered, axis=self.axis,\n",
    "                                                                  keepdims=True))\n",
    "\n",
    "        self.gamma = self.gamma_optimizer.step(gamma_grad)\n",
    "        if self.affine:\n",
    "            beta_grad = np.sum(output_error, axis=self.axis, keepdims=True)\n",
    "            self.beta = self.beta_optimizer.step(beta_grad)\n",
    "        return input_error"
   ]
  },
  {
   "cell_type": "code",
   "execution_count": 51,
   "id": "fd474155",
   "metadata": {},
   "outputs": [],
   "source": [
    "class Autoencoder:\n",
    "    def __init__(self):\n",
    "        encoder = [\n",
    "            Linear(28*28, 512),\n",
    "            Activation(leaky_relu, leaky_relu_derivative),\n",
    "            BatchNorm(512, 2, momentum=0.8, affine=False),\n",
    "            Linear(512, 256),\n",
    "            Activation(leaky_relu, leaky_relu_derivative),\n",
    "            BatchNorm(256, 2, momentum=0.8, affine=False),\n",
    "            Linear(256, 256)\n",
    "        ]\n",
    "        decoder = [\n",
    "            Linear(256, 256),\n",
    "            Activation(leaky_relu, leaky_relu_derivative),\n",
    "            BatchNorm(256, 2, momentum=0.8, affine=False),\n",
    "            Linear(256, 512),\n",
    "            Activation(leaky_relu, leaky_relu_derivative),\n",
    "            BatchNorm(512, 2, momentum=0.8, affine=False),\n",
    "            Linear(512, 28*28),\n",
    "            Activation(tanh, tanh_derivative),\n",
    "        ]\n",
    "        self.layers = encoder + decoder\n",
    "        self.loss = mse\n",
    "        self.loss_derivative = mse_derivative\n",
    "        self.grad = True\n",
    "        \n",
    "    def __call__(self, x):\n",
    "        return self.forward(x)\n",
    "        \n",
    "    def fit(self, x, batch_size, n_epochs, echo=True, save_period=100, save_path='./'):\n",
    "        # saving initial model\n",
    "        self.save_model(save_path)\n",
    "        \n",
    "        batch_size = batch_size or len(x)\n",
    "        amount_of_batches = np.ceil(len(x) / batch_size).astype(int)\n",
    "\n",
    "        try:\n",
    "            for epoch in range(n_epochs):\n",
    "                start_time = time.time()\n",
    "                \n",
    "                # it is good to do permutations in each epoch\n",
    "                idxs = np.random.permutation(len(x))\n",
    "                error = 0\n",
    "\n",
    "                for batch_idx in range(amount_of_batches):\n",
    "                    batch_slice = idxs[batch_idx * batch_size:batch_idx * batch_size + batch_size]\n",
    "                    \n",
    "                    # real_images = [batch_size or less (if batch is last in dataset), 28*28]\n",
    "                    images = x[batch_slice]\n",
    "                    num_images = images.shape[0]\n",
    "                    \n",
    "                    # learning phase\n",
    "                    pred = self.forward(images)\n",
    "                    loss = self.loss(images, pred)\n",
    "                    output_error = self.loss_derivative(images, pred)\n",
    "                    self.backward(output_error)\n",
    "                    \n",
    "                    error += loss\n",
    "\n",
    "                if echo:\n",
    "                    print('*' * 30)\n",
    "                    print(f\"\"\"Epoch {epoch} Time: {time.time()-start_time:.3f}\n",
    "                    loss:{error / amount_of_batches}\"\"\")\n",
    "                    \n",
    "                if save_period is not None and (epoch+1) % save_period == 0:\n",
    "                    self.save_model(save_path)\n",
    "                    self.save_imgs(images, epoch+1, save_path)\n",
    "                    \n",
    "        except KeyboardInterrupt:\n",
    "            print('Interrupted by user')\n",
    "            return self\n",
    "\n",
    "        return self\n",
    "    \n",
    "    def forward(self, x):\n",
    "        self.input = x\n",
    "        for layer in self.layers:\n",
    "            x = layer(x, self.grad)\n",
    "        return x\n",
    "    \n",
    "    def backward(self, output_error):\n",
    "        for layer in reversed(self.layers):\n",
    "            output_error = layer.backward(output_error)\n",
    "        return output_error\n",
    "    \n",
    "    def set_optimizer(self, optimizer):\n",
    "        for layer in self.layers:\n",
    "            if 'set_optimizer' in layer.__dir__():\n",
    "                layer.set_optimizer(optimizer)\n",
    "    \n",
    "    def save_model(self, path):\n",
    "        with open(f'{path}/autoencoder.pkl', 'wb') as f:\n",
    "            pickle.dump(self, f)\n",
    "            \n",
    "    def save_imgs(self, x, epoch, path):\n",
    "        generated = self.forward(x).reshape(-1, 28, 28)\n",
    "        generated = 0.5 * generated + 0.5\n",
    "\n",
    "        fig, ax = plt.subplots(2, 5, figsize=(25, 10))\n",
    "        cnt = 0\n",
    "        for i in range(2):\n",
    "            for j in range(5):\n",
    "                ax[i,j].imshow(generated[cnt,:,:], cmap='viridis')\n",
    "                ax[i,j].axis('off')\n",
    "                cnt += 1\n",
    "        fig.savefig(f\"{path}/mnist_{epoch}.png\", dpi=199)\n",
    "        plt.close()"
   ]
  },
  {
   "cell_type": "code",
   "execution_count": 52,
   "id": "9d0cb576",
   "metadata": {},
   "outputs": [],
   "source": [
    "optimizer = ADAM(learning_rate=0.0002, beta1=0.5)\n",
    "\n",
    "autoencoder = Autoencoder()\n",
    "autoencoder.set_optimizer(optimizer)"
   ]
  },
  {
   "cell_type": "code",
   "execution_count": 53,
   "id": "83ffad44",
   "metadata": {},
   "outputs": [
    {
     "name": "stdout",
     "output_type": "stream",
     "text": [
      "******************************\n",
      "Epoch 0 Time: 18.634\n",
      "                    loss:0.24186237046796055\n",
      "******************************\n",
      "Epoch 1 Time: 18.673\n",
      "                    loss:0.1426561487641078\n",
      "******************************\n",
      "Epoch 2 Time: 18.326\n",
      "                    loss:0.12167831614771471\n",
      "******************************\n",
      "Epoch 3 Time: 18.399\n",
      "                    loss:0.13352662359731693\n",
      "******************************\n",
      "Epoch 4 Time: 18.322\n",
      "                    loss:0.12070485176157751\n",
      "******************************\n",
      "Epoch 5 Time: 18.346\n",
      "                    loss:0.10947744362983639\n",
      "******************************\n",
      "Epoch 6 Time: 18.342\n",
      "                    loss:0.09477068252057351\n",
      "******************************\n",
      "Epoch 7 Time: 18.328\n",
      "                    loss:0.09513769862043815\n",
      "******************************\n",
      "Epoch 8 Time: 18.332\n",
      "                    loss:0.09414071991840131\n",
      "******************************\n",
      "Epoch 9 Time: 18.359\n",
      "                    loss:0.08872473693108897\n",
      "******************************\n",
      "Epoch 10 Time: 18.278\n",
      "                    loss:0.08406600778807448\n",
      "******************************\n",
      "Epoch 11 Time: 18.304\n",
      "                    loss:0.09147848615947504\n",
      "******************************\n",
      "Epoch 12 Time: 18.287\n",
      "                    loss:0.09548225364709699\n",
      "******************************\n",
      "Epoch 13 Time: 18.279\n",
      "                    loss:0.08372727166541283\n",
      "******************************\n",
      "Epoch 14 Time: 18.396\n",
      "                    loss:0.07910858807499299\n",
      "******************************\n",
      "Epoch 15 Time: 18.364\n",
      "                    loss:0.09265420795123111\n",
      "******************************\n",
      "Epoch 16 Time: 18.822\n",
      "                    loss:0.08308695091445316\n",
      "******************************\n",
      "Epoch 17 Time: 18.620\n",
      "                    loss:0.07400076180632961\n",
      "******************************\n",
      "Epoch 18 Time: 19.324\n",
      "                    loss:0.08114373174409552\n",
      "******************************\n",
      "Epoch 19 Time: 18.683\n",
      "                    loss:0.0752444647690109\n",
      "******************************\n",
      "Epoch 20 Time: 19.555\n",
      "                    loss:0.07599476004640048\n",
      "******************************\n",
      "Epoch 21 Time: 19.880\n",
      "                    loss:0.07083984356514383\n",
      "******************************\n",
      "Epoch 22 Time: 20.090\n",
      "                    loss:0.08775480484546871\n",
      "******************************\n",
      "Epoch 23 Time: 20.091\n",
      "                    loss:0.06658543050863537\n",
      "******************************\n",
      "Epoch 24 Time: 20.084\n",
      "                    loss:0.06885922430891844\n",
      "******************************\n",
      "Epoch 25 Time: 20.121\n",
      "                    loss:0.07726499706427412\n",
      "******************************\n",
      "Epoch 26 Time: 20.158\n",
      "                    loss:0.06952420671655796\n",
      "******************************\n",
      "Epoch 27 Time: 20.249\n",
      "                    loss:0.06844729668430964\n",
      "******************************\n",
      "Epoch 28 Time: 20.210\n",
      "                    loss:0.06446528553796703\n",
      "******************************\n",
      "Epoch 29 Time: 20.127\n",
      "                    loss:0.07556362702258163\n",
      "******************************\n",
      "Epoch 30 Time: 20.271\n",
      "                    loss:0.0716500088039051\n",
      "******************************\n",
      "Epoch 31 Time: 20.140\n",
      "                    loss:0.0602610494460754\n",
      "******************************\n",
      "Epoch 32 Time: 20.144\n",
      "                    loss:0.0660330573680274\n",
      "******************************\n",
      "Epoch 33 Time: 20.176\n",
      "                    loss:0.07432698845675406\n",
      "******************************\n",
      "Epoch 34 Time: 20.112\n",
      "                    loss:0.06610473959666649\n",
      "******************************\n",
      "Epoch 35 Time: 20.134\n",
      "                    loss:0.06826819625483681\n",
      "******************************\n",
      "Epoch 36 Time: 20.124\n",
      "                    loss:0.0641103626055867\n",
      "******************************\n",
      "Epoch 37 Time: 20.156\n",
      "                    loss:0.06380646104217741\n",
      "******************************\n",
      "Epoch 38 Time: 20.230\n",
      "                    loss:0.06262285198592808\n",
      "******************************\n",
      "Epoch 39 Time: 20.214\n",
      "                    loss:0.062152118381775374\n",
      "******************************\n",
      "Epoch 40 Time: 20.227\n",
      "                    loss:0.06612795983461206\n",
      "******************************\n",
      "Epoch 41 Time: 20.171\n",
      "                    loss:0.06141739429008048\n",
      "******************************\n",
      "Epoch 42 Time: 20.291\n",
      "                    loss:0.07006484836630784\n",
      "******************************\n",
      "Epoch 43 Time: 20.261\n",
      "                    loss:0.05863627267254537\n",
      "******************************\n",
      "Epoch 44 Time: 20.283\n",
      "                    loss:0.06634282173762916\n",
      "******************************\n",
      "Epoch 45 Time: 20.194\n",
      "                    loss:0.057514187714086146\n",
      "******************************\n",
      "Epoch 46 Time: 20.247\n",
      "                    loss:0.06966503661019827\n",
      "******************************\n",
      "Epoch 47 Time: 20.242\n",
      "                    loss:0.06421751225016294\n",
      "******************************\n",
      "Epoch 48 Time: 20.403\n",
      "                    loss:0.06539702149741256\n",
      "******************************\n",
      "Epoch 49 Time: 20.288\n",
      "                    loss:0.0641656855966584\n",
      "******************************\n",
      "Epoch 50 Time: 20.291\n",
      "                    loss:0.07031083111960863\n",
      "******************************\n",
      "Epoch 51 Time: 20.283\n",
      "                    loss:0.06559088606307299\n",
      "******************************\n",
      "Epoch 52 Time: 20.426\n",
      "                    loss:0.06157819260729984\n",
      "******************************\n",
      "Epoch 53 Time: 20.423\n",
      "                    loss:0.05982893982622085\n",
      "******************************\n",
      "Epoch 54 Time: 20.332\n",
      "                    loss:0.0585626369017406\n",
      "******************************\n",
      "Epoch 55 Time: 20.283\n",
      "                    loss:0.05398374690269941\n",
      "******************************\n",
      "Epoch 56 Time: 20.366\n",
      "                    loss:0.059082187755227125\n",
      "******************************\n",
      "Epoch 57 Time: 20.346\n",
      "                    loss:0.05722551743733295\n",
      "******************************\n",
      "Epoch 58 Time: 20.349\n",
      "                    loss:0.059303753902848026\n",
      "******************************\n",
      "Epoch 59 Time: 20.323\n",
      "                    loss:0.05485771350009982\n",
      "******************************\n",
      "Epoch 60 Time: 20.267\n",
      "                    loss:0.06521868172815029\n",
      "******************************\n",
      "Epoch 61 Time: 20.294\n",
      "                    loss:0.054181775897613464\n",
      "******************************\n",
      "Epoch 62 Time: 20.248\n",
      "                    loss:0.052880517079633566\n",
      "******************************\n",
      "Epoch 63 Time: 20.115\n",
      "                    loss:0.05950164987990345\n",
      "******************************\n",
      "Epoch 64 Time: 20.312\n",
      "                    loss:0.053274354019638454\n",
      "******************************\n",
      "Epoch 65 Time: 20.411\n",
      "                    loss:0.05588361902590104\n",
      "******************************\n",
      "Epoch 66 Time: 20.234\n",
      "                    loss:0.05858633930459296\n",
      "******************************\n",
      "Epoch 67 Time: 20.249\n",
      "                    loss:0.05277652053320125\n",
      "******************************\n",
      "Epoch 68 Time: 20.226\n",
      "                    loss:0.051815810524494264\n",
      "******************************\n",
      "Epoch 69 Time: 21.438\n",
      "                    loss:0.057714125716192784\n",
      "******************************\n",
      "Epoch 70 Time: 20.632\n",
      "                    loss:0.052251391913144006\n",
      "******************************\n",
      "Epoch 71 Time: 22.029\n",
      "                    loss:0.05408031471098419\n",
      "******************************\n",
      "Epoch 72 Time: 21.137\n",
      "                    loss:0.058051103767502325\n",
      "******************************\n",
      "Epoch 73 Time: 20.351\n",
      "                    loss:0.050536757641270295\n",
      "******************************\n",
      "Epoch 74 Time: 20.431\n",
      "                    loss:0.05189468680268587\n",
      "******************************\n",
      "Epoch 75 Time: 20.631\n",
      "                    loss:0.05952542549617675\n",
      "******************************\n",
      "Epoch 76 Time: 20.223\n",
      "                    loss:0.05438707527858434\n",
      "******************************\n",
      "Epoch 77 Time: 20.408\n",
      "                    loss:0.04828080924251263\n",
      "******************************\n",
      "Epoch 78 Time: 20.264\n",
      "                    loss:0.05218928945575191\n",
      "******************************\n",
      "Epoch 79 Time: 20.198\n",
      "                    loss:0.05579505119741028\n",
      "******************************\n",
      "Epoch 80 Time: 20.284\n",
      "                    loss:0.05410014144552717\n",
      "******************************\n",
      "Epoch 81 Time: 20.330\n",
      "                    loss:0.05012045384333646\n",
      "******************************\n",
      "Epoch 82 Time: 20.317\n",
      "                    loss:0.05609078693813844\n",
      "******************************\n",
      "Epoch 83 Time: 20.337\n",
      "                    loss:0.049054134600169684\n"
     ]
    },
    {
     "name": "stdout",
     "output_type": "stream",
     "text": [
      "******************************\n",
      "Epoch 84 Time: 20.263\n",
      "                    loss:0.049770655546165964\n",
      "******************************\n",
      "Epoch 85 Time: 20.310\n",
      "                    loss:0.04837233397626509\n",
      "******************************\n",
      "Epoch 86 Time: 20.303\n",
      "                    loss:0.04950859449807506\n",
      "******************************\n",
      "Epoch 87 Time: 20.336\n",
      "                    loss:0.04785331493727801\n",
      "******************************\n",
      "Epoch 88 Time: 20.362\n",
      "                    loss:0.05021708355175494\n",
      "******************************\n",
      "Epoch 89 Time: 20.314\n",
      "                    loss:0.05176406147800352\n",
      "******************************\n",
      "Epoch 90 Time: 20.285\n",
      "                    loss:0.04708418048151485\n",
      "******************************\n",
      "Epoch 91 Time: 20.265\n",
      "                    loss:0.04452318028595163\n",
      "******************************\n",
      "Epoch 92 Time: 20.330\n",
      "                    loss:0.04764710592946384\n",
      "******************************\n",
      "Epoch 93 Time: 20.303\n",
      "                    loss:0.04215424006052441\n",
      "******************************\n",
      "Epoch 94 Time: 20.311\n",
      "                    loss:0.04304173106096821\n",
      "******************************\n",
      "Epoch 95 Time: 20.300\n",
      "                    loss:0.04708809469541905\n",
      "******************************\n",
      "Epoch 96 Time: 20.294\n",
      "                    loss:0.04162748086585978\n",
      "******************************\n",
      "Epoch 97 Time: 20.280\n",
      "                    loss:0.04217449535942748\n",
      "******************************\n",
      "Epoch 98 Time: 20.321\n",
      "                    loss:0.07052538880338799\n",
      "******************************\n",
      "Epoch 99 Time: 20.253\n",
      "                    loss:0.04915220438495828\n",
      "******************************\n",
      "Epoch 100 Time: 20.254\n",
      "                    loss:0.028173439495156015\n",
      "******************************\n",
      "Epoch 101 Time: 20.368\n",
      "                    loss:0.02256635712997959\n",
      "******************************\n",
      "Epoch 102 Time: 20.262\n",
      "                    loss:0.021384163573010526\n",
      "******************************\n",
      "Epoch 103 Time: 20.349\n",
      "                    loss:0.02067471114514772\n",
      "******************************\n",
      "Epoch 104 Time: 20.349\n",
      "                    loss:0.020048128492083744\n",
      "******************************\n",
      "Epoch 105 Time: 20.306\n",
      "                    loss:0.019871509519897457\n",
      "******************************\n",
      "Epoch 106 Time: 20.420\n",
      "                    loss:0.019333268282651212\n",
      "******************************\n",
      "Epoch 107 Time: 20.380\n",
      "                    loss:0.01904232467936698\n",
      "******************************\n",
      "Epoch 108 Time: 20.386\n",
      "                    loss:0.01865939302064348\n",
      "******************************\n",
      "Epoch 109 Time: 20.431\n",
      "                    loss:0.01830939890968847\n",
      "******************************\n",
      "Epoch 110 Time: 20.419\n",
      "                    loss:0.01797445417768171\n",
      "******************************\n",
      "Epoch 111 Time: 20.677\n",
      "                    loss:0.017743238459719844\n",
      "******************************\n",
      "Epoch 112 Time: 20.502\n",
      "                    loss:0.017526358508636052\n",
      "******************************\n",
      "Epoch 113 Time: 20.576\n",
      "                    loss:0.01709648113406913\n",
      "******************************\n",
      "Epoch 114 Time: 20.482\n",
      "                    loss:0.01694809966803673\n",
      "******************************\n",
      "Epoch 115 Time: 20.431\n",
      "                    loss:0.016595558003391884\n",
      "******************************\n",
      "Epoch 116 Time: 20.582\n",
      "                    loss:0.01633736514355593\n",
      "******************************\n",
      "Epoch 117 Time: 20.528\n",
      "                    loss:0.01615005385535674\n",
      "******************************\n",
      "Epoch 118 Time: 20.484\n",
      "                    loss:0.01583397850569969\n",
      "******************************\n",
      "Epoch 119 Time: 20.455\n",
      "                    loss:0.01562756352256355\n",
      "******************************\n",
      "Epoch 120 Time: 20.450\n",
      "                    loss:0.01531079353574132\n",
      "******************************\n",
      "Epoch 121 Time: 20.528\n",
      "                    loss:0.015176994564893883\n",
      "******************************\n",
      "Epoch 122 Time: 20.570\n",
      "                    loss:0.014949144025183742\n",
      "******************************\n",
      "Epoch 123 Time: 20.412\n",
      "                    loss:0.014752533928492443\n",
      "******************************\n",
      "Epoch 124 Time: 20.491\n",
      "                    loss:0.014540918592650661\n",
      "******************************\n",
      "Epoch 125 Time: 20.470\n",
      "                    loss:0.014265387178370831\n",
      "******************************\n",
      "Epoch 126 Time: 20.448\n",
      "                    loss:0.014068247148459943\n",
      "******************************\n",
      "Epoch 127 Time: 20.499\n",
      "                    loss:0.01384048002918699\n",
      "******************************\n",
      "Epoch 128 Time: 20.591\n",
      "                    loss:0.013703887529773695\n",
      "******************************\n",
      "Epoch 129 Time: 20.458\n",
      "                    loss:0.013554315858835066\n",
      "******************************\n",
      "Epoch 130 Time: 20.452\n",
      "                    loss:0.01331888270734392\n",
      "******************************\n",
      "Epoch 131 Time: 20.430\n",
      "                    loss:0.01322630894512061\n",
      "******************************\n",
      "Epoch 132 Time: 20.445\n",
      "                    loss:0.013018524852780506\n",
      "******************************\n",
      "Epoch 133 Time: 20.415\n",
      "                    loss:0.015459400572490855\n",
      "******************************\n",
      "Epoch 134 Time: 20.394\n",
      "                    loss:0.012873822407550813\n",
      "******************************\n",
      "Epoch 135 Time: 20.406\n",
      "                    loss:0.012592778194377275\n",
      "******************************\n",
      "Epoch 136 Time: 20.479\n",
      "                    loss:0.012494988365151767\n",
      "******************************\n",
      "Epoch 137 Time: 20.445\n",
      "                    loss:0.012344759240102757\n",
      "******************************\n",
      "Epoch 138 Time: 20.341\n",
      "                    loss:0.012217171746080616\n",
      "******************************\n",
      "Epoch 139 Time: 20.404\n",
      "                    loss:0.012080887026023928\n",
      "******************************\n",
      "Epoch 140 Time: 20.412\n",
      "                    loss:0.012001006981875718\n",
      "******************************\n",
      "Epoch 141 Time: 20.408\n",
      "                    loss:0.011895683224347696\n",
      "******************************\n",
      "Epoch 142 Time: 20.489\n",
      "                    loss:0.011780408429605711\n",
      "******************************\n",
      "Epoch 143 Time: 20.463\n",
      "                    loss:0.011681263649520683\n",
      "******************************\n",
      "Epoch 144 Time: 20.375\n",
      "                    loss:0.011510123505830035\n",
      "******************************\n",
      "Epoch 145 Time: 20.428\n",
      "                    loss:0.01138733343823248\n",
      "******************************\n",
      "Epoch 146 Time: 20.458\n",
      "                    loss:0.011262079238066072\n",
      "******************************\n",
      "Epoch 147 Time: 20.486\n",
      "                    loss:0.011224857230814766\n",
      "******************************\n",
      "Epoch 148 Time: 20.475\n",
      "                    loss:0.01101724002823483\n",
      "******************************\n",
      "Epoch 149 Time: 20.504\n",
      "                    loss:0.010926367499041878\n",
      "******************************\n",
      "Epoch 150 Time: 20.487\n",
      "                    loss:0.010860898853082246\n",
      "******************************\n",
      "Epoch 151 Time: 20.408\n",
      "                    loss:0.010684783972998716\n",
      "******************************\n",
      "Epoch 152 Time: 20.500\n",
      "                    loss:0.010632766095985261\n",
      "******************************\n",
      "Epoch 153 Time: 20.519\n",
      "                    loss:0.01054558061879037\n",
      "******************************\n",
      "Epoch 154 Time: 20.380\n",
      "                    loss:0.010449094908497238\n",
      "******************************\n",
      "Epoch 155 Time: 20.482\n",
      "                    loss:0.010370954145636463\n",
      "******************************\n",
      "Epoch 156 Time: 20.476\n",
      "                    loss:0.010218611186074093\n",
      "******************************\n",
      "Epoch 157 Time: 20.474\n",
      "                    loss:0.01015254348563898\n",
      "******************************\n",
      "Epoch 158 Time: 20.569\n",
      "                    loss:0.010154291680391761\n",
      "******************************\n",
      "Epoch 159 Time: 20.514\n",
      "                    loss:0.010096723015458341\n",
      "******************************\n",
      "Epoch 160 Time: 20.480\n",
      "                    loss:0.009971506157906025\n",
      "******************************\n",
      "Epoch 161 Time: 20.561\n",
      "                    loss:0.009836396004377027\n",
      "******************************\n",
      "Epoch 162 Time: 20.580\n",
      "                    loss:0.009731166913223127\n",
      "******************************\n",
      "Epoch 163 Time: 20.545\n",
      "                    loss:0.009728342706094618\n",
      "******************************\n",
      "Epoch 164 Time: 20.544\n",
      "                    loss:0.00962913200029522\n",
      "******************************\n",
      "Epoch 165 Time: 20.527\n",
      "                    loss:0.009598828720982803\n",
      "******************************\n",
      "Epoch 166 Time: 20.464\n",
      "                    loss:0.00955792055015256\n"
     ]
    },
    {
     "name": "stdout",
     "output_type": "stream",
     "text": [
      "******************************\n",
      "Epoch 167 Time: 20.541\n",
      "                    loss:0.009419154274479855\n",
      "******************************\n",
      "Epoch 168 Time: 20.513\n",
      "                    loss:0.009355035771544944\n",
      "******************************\n",
      "Epoch 169 Time: 20.458\n",
      "                    loss:0.009291830698759678\n",
      "******************************\n",
      "Epoch 170 Time: 20.479\n",
      "                    loss:0.00921882013034067\n",
      "******************************\n",
      "Epoch 171 Time: 20.606\n",
      "                    loss:0.009185203057094188\n",
      "******************************\n",
      "Epoch 172 Time: 20.553\n",
      "                    loss:0.009156906901018256\n",
      "******************************\n",
      "Epoch 173 Time: 20.634\n",
      "                    loss:0.0090771456031408\n",
      "******************************\n",
      "Epoch 174 Time: 20.532\n",
      "                    loss:0.00899975568471908\n",
      "******************************\n",
      "Epoch 175 Time: 20.484\n",
      "                    loss:0.008942836470589813\n",
      "******************************\n",
      "Epoch 176 Time: 20.510\n",
      "                    loss:0.00890116324065856\n",
      "******************************\n",
      "Epoch 177 Time: 20.496\n",
      "                    loss:0.008865280625460931\n",
      "******************************\n",
      "Epoch 178 Time: 20.625\n",
      "                    loss:0.008836273933750466\n",
      "******************************\n",
      "Epoch 179 Time: 20.644\n",
      "                    loss:0.008704599660201012\n",
      "******************************\n",
      "Epoch 180 Time: 21.280\n",
      "                    loss:0.008678967863314846\n",
      "******************************\n",
      "Epoch 181 Time: 20.600\n",
      "                    loss:0.00871131266858463\n",
      "******************************\n",
      "Epoch 182 Time: 20.554\n",
      "                    loss:0.008572908740935371\n",
      "******************************\n",
      "Epoch 183 Time: 20.672\n",
      "                    loss:0.008560853957884435\n",
      "******************************\n",
      "Epoch 184 Time: 20.736\n",
      "                    loss:0.00854814780185905\n",
      "******************************\n",
      "Epoch 185 Time: 20.639\n",
      "                    loss:0.008537543165553184\n",
      "******************************\n",
      "Epoch 186 Time: 20.611\n",
      "                    loss:0.008387560015888555\n",
      "******************************\n",
      "Epoch 187 Time: 20.633\n",
      "                    loss:0.008377460212296635\n",
      "******************************\n",
      "Epoch 188 Time: 21.811\n",
      "                    loss:0.008381967779951172\n",
      "Interrupted by user\n"
     ]
    },
    {
     "data": {
      "text/plain": [
       "<__main__.Autoencoder at 0x22d47cef0a0>"
      ]
     },
     "execution_count": 53,
     "metadata": {},
     "output_type": "execute_result"
    }
   ],
   "source": [
    "autoencoder.fit(train_data, batch_size=128, n_epochs=1000, save_period=1, save_path='./models/autoencoder')"
   ]
  },
  {
   "cell_type": "code",
   "execution_count": 54,
   "id": "1837a991",
   "metadata": {},
   "outputs": [
    {
     "data": {
      "text/plain": [
       "array([[-0.50119165,  2.62295374,  0.14153544, ..., -0.15842976,\n",
       "         0.74428442,  0.99030561],\n",
       "       [-0.83625621,  0.98632429,  0.96844976, ..., -0.27396851,\n",
       "         0.39919532, -1.36087048],\n",
       "       [-3.16637103,  1.32324254,  0.07422051, ..., -1.18668618,\n",
       "         2.47835692,  1.37021297],\n",
       "       ...,\n",
       "       [ 0.65180046,  1.92245512, -0.06649706, ..., -0.5435097 ,\n",
       "         3.02433731,  0.43014585],\n",
       "       [-1.86896015,  1.81312626,  0.97597707, ...,  0.19181121,\n",
       "         2.67237578,  0.80603413],\n",
       "       [-1.11920258,  3.07990195,  1.61997728, ...,  0.62411155,\n",
       "         1.12200776,  1.84689203]])"
      ]
     },
     "execution_count": 54,
     "metadata": {},
     "output_type": "execute_result"
    }
   ],
   "source": [
    "x = train_data[:10]\n",
    "for layer in autoencoder.layers[:7]:\n",
    "    x = layer(x, False)\n",
    "x"
   ]
  },
  {
   "cell_type": "code",
   "execution_count": 55,
   "id": "e63737be",
   "metadata": {},
   "outputs": [
    {
     "data": {
      "image/png": "[encoded data removed]",
      "text/plain": [
       "<Figure size 432x288 with 1 Axes>"
      ]
     },
     "metadata": {
      "needs_background": "light"
     },
     "output_type": "display_data"
    },
    {
     "data": {
      "image/png": "[encoded data removed]",
      "text/plain": [
       "<Figure size 432x288 with 1 Axes>"
      ]
     },
     "metadata": {
      "needs_background": "light"
     },
     "output_type": "display_data"
    },
    {
     "data": {
      "image/png": "[encoded data removed]",
      "text/plain": [
       "<Figure size 432x288 with 1 Axes>"
      ]
     },
     "metadata": {
      "needs_background": "light"
     },
     "output_type": "display_data"
    },
    {
     "data": {
      "image/png": "[encoded data removed]",
      "text/plain": [
       "<Figure size 432x288 with 1 Axes>"
      ]
     },
     "metadata": {
      "needs_background": "light"
     },
     "output_type": "display_data"
    },
    {
     "data": {
      "image/png": "[encoded data removed]",
      "text/plain": [
       "<Figure size 432x288 with 1 Axes>"
      ]
     },
     "metadata": {
      "needs_background": "light"
     },
     "output_type": "display_data"
    },
    {
     "data": {
      "image/png": "[encoded data removed]",
      "text/plain": [
       "<Figure size 432x288 with 1 Axes>"
      ]
     },
     "metadata": {
      "needs_background": "light"
     },
     "output_type": "display_data"
    },
    {
     "data": {
      "image/png": "[encoded data removed]",
      "text/plain": [
       "<Figure size 432x288 with 1 Axes>"
      ]
     },
     "metadata": {
      "needs_background": "light"
     },
     "output_type": "display_data"
    },
    {
     "data": {
      "image/png": "[encoded data removed]",
      "text/plain": [
       "<Figure size 432x288 with 1 Axes>"
      ]
     },
     "metadata": {
      "needs_background": "light"
     },
     "output_type": "display_data"
    },
    {
     "data": {
      "image/png": "[encoded data removed]",
      "text/plain": [
       "<Figure size 432x288 with 1 Axes>"
      ]
     },
     "metadata": {
      "needs_background": "light"
     },
     "output_type": "display_data"
    },
    {
     "data": {
      "image/png": "[encoded data removed]",
      "text/plain": [
       "<Figure size 432x288 with 1 Axes>"
      ]
     },
     "metadata": {
      "needs_background": "light"
     },
     "output_type": "display_data"
    }
   ],
   "source": [
    "for image in train_data[:10].reshape(-1, 28, 28):\n",
    "    plt.imshow(image, cmap='viridis')\n",
    "    plt.axis('off')\n",
    "    plt.pause(0.1)"
   ]
  },
  {
   "cell_type": "code",
   "execution_count": 56,
   "id": "956e0b58",
   "metadata": {},
   "outputs": [
    {
     "data": {
      "image/png": "[encoded data removed]",
      "text/plain": [
       "<Figure size 432x288 with 1 Axes>"
      ]
     },
     "metadata": {
      "needs_background": "light"
     },
     "output_type": "display_data"
    },
    {
     "data": {
      "image/png": "[encoded data removed]",
      "text/plain": [
       "<Figure size 432x288 with 1 Axes>"
      ]
     },
     "metadata": {
      "needs_background": "light"
     },
     "output_type": "display_data"
    },
    {
     "data": {
      "image/png": "[encoded data removed]",
      "text/plain": [
       "<Figure size 432x288 with 1 Axes>"
      ]
     },
     "metadata": {
      "needs_background": "light"
     },
     "output_type": "display_data"
    },
    {
     "data": {
      "image/png": "[encoded data removed]",
      "text/plain": [
       "<Figure size 432x288 with 1 Axes>"
      ]
     },
     "metadata": {
      "needs_background": "light"
     },
     "output_type": "display_data"
    },
    {
     "data": {
      "image/png": "[encoded data removed]",
      "text/plain": [
       "<Figure size 432x288 with 1 Axes>"
      ]
     },
     "metadata": {
      "needs_background": "light"
     },
     "output_type": "display_data"
    },
    {
     "data": {
      "image/png": "[encoded data removed]",
      "text/plain": [
       "<Figure size 432x288 with 1 Axes>"
      ]
     },
     "metadata": {
      "needs_background": "light"
     },
     "output_type": "display_data"
    },
    {
     "data": {
      "image/png": "[encoded data removed]",
      "text/plain": [
       "<Figure size 432x288 with 1 Axes>"
      ]
     },
     "metadata": {
      "needs_background": "light"
     },
     "output_type": "display_data"
    },
    {
     "data": {
      "image/png": "[encoded data removed]",
      "text/plain": [
       "<Figure size 432x288 with 1 Axes>"
      ]
     },
     "metadata": {
      "needs_background": "light"
     },
     "output_type": "display_data"
    },
    {
     "data": {
      "image/png": "[encoded data removed]",
      "text/plain": [
       "<Figure size 432x288 with 1 Axes>"
      ]
     },
     "metadata": {
      "needs_background": "light"
     },
     "output_type": "display_data"
    },
    {
     "data": {
      "image/png": "[encoded data removed]",
      "text/plain": [
       "<Figure size 432x288 with 1 Axes>"
      ]
     },
     "metadata": {
      "needs_background": "light"
     },
     "output_type": "display_data"
    }
   ],
   "source": [
    "for image in x.reshape(-1, 16, 16):\n",
    "    plt.imshow(image, cmap='viridis')\n",
    "    plt.axis('off')\n",
    "    plt.pause(0.1)"
   ]
  },
  {
   "cell_type": "code",
   "execution_count": 57,
   "id": "460ada16",
   "metadata": {},
   "outputs": [
    {
     "data": {
      "text/plain": [
       "array([[-0.99931069, -0.9993726 , -0.99936152, ..., -0.99934048,\n",
       "        -0.99937641, -0.99927566],\n",
       "       [-0.99931215, -0.99926019, -0.99922072, ..., -0.99927569,\n",
       "        -0.99920806, -0.99916726],\n",
       "       [-0.99937167, -0.99929942, -0.99925157, ..., -0.9993076 ,\n",
       "        -0.9993593 , -0.99932587],\n",
       "       ...,\n",
       "       [-0.99970533, -0.99951421, -0.99965512, ..., -0.99964446,\n",
       "        -0.99960006, -0.99961557],\n",
       "       [-0.99935408, -0.99933354, -0.99937103, ..., -0.99933022,\n",
       "        -0.9993481 , -0.99935575],\n",
       "       [-0.99946466, -0.9994757 , -0.99942124, ..., -0.99946766,\n",
       "        -0.99940701, -0.99941387]])"
      ]
     },
     "execution_count": 57,
     "metadata": {},
     "output_type": "execute_result"
    }
   ],
   "source": [
    "for layer in autoencoder.layers[7:]:\n",
    "    x = layer(x, False)\n",
    "x"
   ]
  },
  {
   "cell_type": "code",
   "execution_count": 58,
   "id": "a304bea7",
   "metadata": {},
   "outputs": [
    {
     "data": {
      "image/png": "[encoded data removed]",
      "text/plain": [
       "<Figure size 432x288 with 1 Axes>"
      ]
     },
     "metadata": {
      "needs_background": "light"
     },
     "output_type": "display_data"
    },
    {
     "data": {
      "image/png": "[encoded data removed]",
      "text/plain": [
       "<Figure size 432x288 with 1 Axes>"
      ]
     },
     "metadata": {
      "needs_background": "light"
     },
     "output_type": "display_data"
    },
    {
     "data": {
      "image/png": "[encoded data removed]",
      "text/plain": [
       "<Figure size 432x288 with 1 Axes>"
      ]
     },
     "metadata": {
      "needs_background": "light"
     },
     "output_type": "display_data"
    },
    {
     "data": {
      "image/png": "[encoded data removed]",
      "text/plain": [
       "<Figure size 432x288 with 1 Axes>"
      ]
     },
     "metadata": {
      "needs_background": "light"
     },
     "output_type": "display_data"
    },
    {
     "data": {
      "image/png": "[encoded data removed]",
      "text/plain": [
       "<Figure size 432x288 with 1 Axes>"
      ]
     },
     "metadata": {
      "needs_background": "light"
     },
     "output_type": "display_data"
    },
    {
     "data": {
      "image/png": "[encoded data removed]",
      "text/plain": [
       "<Figure size 432x288 with 1 Axes>"
      ]
     },
     "metadata": {
      "needs_background": "light"
     },
     "output_type": "display_data"
    },
    {
     "data": {
      "image/png": "[encoded data removed]",
      "text/plain": [
       "<Figure size 432x288 with 1 Axes>"
      ]
     },
     "metadata": {
      "needs_background": "light"
     },
     "output_type": "display_data"
    },
    {
     "data": {
      "image/png": "[encoded data removed]",
      "text/plain": [
       "<Figure size 432x288 with 1 Axes>"
      ]
     },
     "metadata": {
      "needs_background": "light"
     },
     "output_type": "display_data"
    },
    {
     "data": {
      "image/png": "[encoded data removed]",
      "text/plain": [
       "<Figure size 432x288 with 1 Axes>"
      ]
     },
     "metadata": {
      "needs_background": "light"
     },
     "output_type": "display_data"
    },
    {
     "data": {
      "image/png": "[encoded data removed]",
      "text/plain": [
       "<Figure size 432x288 with 1 Axes>"
      ]
     },
     "metadata": {
      "needs_background": "light"
     },
     "output_type": "display_data"
    }
   ],
   "source": [
    "for image in x.reshape(-1, 28, 28):\n",
    "    plt.imshow(image, cmap='viridis')\n",
    "    plt.axis('off')\n",
    "    plt.pause(0.1)"
   ]
  },
  {
   "cell_type": "code",
   "execution_count": 59,
   "id": "929ad764",
   "metadata": {},
   "outputs": [
    {
     "data": {
      "text/html": [
       "<style>\n",
       "\n",
       "div #notebook {\n",
       "    background-color: #FFF9EE;\n",
       "    margin: auto;\n",
       "}\n",
       "\n",
       "#notebook-container {\n",
       "    padding: 15px;\n",
       "    background-color: #FFFAFA;\n",
       "    min-height: 0;\n",
       "    -webkit-box-shadow: 0px 0px 12px 1px rgba(87, 87, 87, 0.2);\n",
       "    box-shadow: 0px 0px 12px 1px rgba(87, 87, 87, 0.2);\n",
       "}\n",
       "\n",
       "div.cell { /* set cell width to about 80 chars */\n",
       "    background-color: #FFFAFA;\n",
       "}\n",
       "\n",
       "div.cell.border-box-sizing.code_cell.running { \n",
       "    border: 3px solid #111;\n",
       "}\n",
       "\n",
       "div.cell.code_cell {\n",
       "    background-color: #FFFAFA ;\n",
       "    border-radius: 5px;\n",
       "    padding: 1em;\n",
       "    margin-top: 1em;\n",
       "}\n",
       "\n",
       "div.text_cell_render{\n",
       "    font-family: 'Times New Roman';\n",
       "    color: #B8860B\n",
       "}\n",
       "\n",
       ".text_cell_render h1 {\n",
       "    font-family: 'Times New Roman';\n",
       "    font-weight: 300;\n",
       "    font-size: 40pt;\n",
       "    line-height: 100%;\n",
       "    color: #8B4513;\n",
       "    font-style: italic;\n",
       "}\n",
       "\n",
       ".text_cell_render h2 {\n",
       "    font-family: 'Times New Roman';\n",
       "    font-weight: 700;\n",
       "    font-size: 30pt;\n",
       "    line-height: 100%;\n",
       "    color: #8B4513;\n",
       "    font-style: italic;\n",
       "}\n",
       "\n",
       ".text_cell_render h3 {\n",
       "    font-family: 'Times New Roman';\n",
       "    font-size: 25pt;\n",
       "    margin-bottom: 3px;\n",
       "    font-style: italic;\n",
       "    color: #8B4513;\n",
       "}\n",
       "\n",
       ".text_cell_render h4 {\n",
       "    font-family: 'Times New Roman';\n",
       "    font-size: 20pt;\n",
       "    color: #8B4513;\n",
       "    font-style: italic;\n",
       "}\n",
       "\n",
       ".text_cell_render h5 {\n",
       "    font-family: 'Times New Roman';\n",
       "    font-weight: 300;\n",
       "    font-size: 16pt;\n",
       "    color: #8B4513;\n",
       "    font-style: italic;\n",
       "}\n",
       "\n",
       ".text_cell_render h6 {\n",
       "    font-family: 'Times New Roman';\n",
       "    font-weight: 300;\n",
       "    font-size: 10pt;\n",
       "    color: #8B4513;\n",
       "    font-style: italic;\n",
       "}\n",
       "\n",
       ".text_cell_render p {\n",
       "    font-family: 'Times New Roman';\n",
       "    font-size: 15pt;\n",
       "    color: black;\n",
       "    text-align: justify;\n",
       "    text-justify: inter-word;\n",
       "    line-height: 1.5;\n",
       "}\n",
       "\n",
       "mark {\n",
       "  background: #D5EAFF;\n",
       "  color: black;\n",
       "}\n",
       "\n",
       ".output_wrapper, .output {\n",
       "    height:auto !important;\n",
       "    max-height:2000px;  /* your desired max-height here */\n",
       "}\n",
       "\n",
       ".CodeMirror{\n",
       "    background-color: #FFFAFA;\n",
       "}\n",
       "</style>"
      ],
      "text/plain": [
       "<IPython.core.display.HTML object>"
      ]
     },
     "execution_count": 59,
     "metadata": {},
     "output_type": "execute_result"
    }
   ],
   "source": [
    "from IPython.display import HTML\n",
    "with open('./style.css') as f:\n",
    "    style = f.read()\n",
    "HTML(style)"
   ]
  }
 ],
 "metadata": {
  "kernelspec": {
   "display_name": "data_science_39",
   "language": "python",
   "name": "data_science_39"
  },
  "language_info": {
   "codemirror_mode": {
    "name": "ipython",
    "version": 3
   },
   "file_extension": ".py",
   "mimetype": "text/x-python",
   "name": "python",
   "nbconvert_exporter": "python",
   "pygments_lexer": "ipython3",
   "version": "3.9.13"
  }
 },
 "nbformat": 4,
 "nbformat_minor": 5
}
