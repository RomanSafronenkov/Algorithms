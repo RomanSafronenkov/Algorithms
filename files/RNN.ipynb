{
 "cells": [
  {
   "cell_type": "markdown",
   "id": "020ca2dc",
   "metadata": {},
   "source": [
    "# RNN"
   ]
  },
  {
   "cell_type": "code",
   "execution_count": 1,
   "id": "6ca4458e",
   "metadata": {},
   "outputs": [],
   "source": [
    "import numpy as np\n",
    "from abc import ABC, abstractmethod\n",
    "import copy\n",
    "\n",
    "import matplotlib.pyplot as plt\n",
    "\n",
    "from typing import Union\n",
    "from IPython.display import HTML, clear_output"
   ]
  },
  {
   "cell_type": "code",
   "execution_count": 2,
   "id": "b9acedcd",
   "metadata": {},
   "outputs": [],
   "source": [
    "np.random.seed(42)"
   ]
  },
  {
   "cell_type": "code",
   "execution_count": 3,
   "id": "79abc535",
   "metadata": {},
   "outputs": [
    {
     "data": {
      "text/plain": [
       "[' Ababko', ' Abaev', ' Abagyan', ' Abaidulin', ' Abaidullin']"
      ]
     },
     "execution_count": 3,
     "metadata": {},
     "output_type": "execute_result"
    }
   ],
   "source": [
    "with open('data/russian_names.txt') as input_file:\n",
    "    names = input_file.read()[:-1].split('\\n')\n",
    "    names = [' ' + line for line in names]\n",
    "names[:5]"
   ]
  },
  {
   "cell_type": "code",
   "execution_count": 4,
   "id": "e7dbfb3c",
   "metadata": {},
   "outputs": [
    {
     "name": "stdout",
     "output_type": "stream",
     "text": [
      "num_tokens =  53\n"
     ]
    }
   ],
   "source": [
    "tokens = list(set(''.join(names)))\n",
    "\n",
    "num_tokens = len(tokens)\n",
    "print('num_tokens = ', num_tokens)"
   ]
  },
  {
   "cell_type": "code",
   "execution_count": 5,
   "id": "b8a7992b",
   "metadata": {},
   "outputs": [
    {
     "data": {
      "text/plain": [
       "{'y': 0,\n",
       " 'R': 1,\n",
       " 'l': 2,\n",
       " 'S': 3,\n",
       " 'F': 4,\n",
       " ',': 5,\n",
       " ' ': 6,\n",
       " 'b': 7,\n",
       " 'K': 8,\n",
       " 'H': 9,\n",
       " \"'\": 10,\n",
       " 'D': 11,\n",
       " 'u': 12,\n",
       " 'w': 13,\n",
       " 'B': 14,\n",
       " 'M': 15,\n",
       " 'J': 16,\n",
       " 'a': 17,\n",
       " 'g': 18,\n",
       " 'd': 19,\n",
       " 'P': 20,\n",
       " 'I': 21,\n",
       " 'c': 22,\n",
       " 'o': 23,\n",
       " 'h': 24,\n",
       " 'r': 25,\n",
       " 'C': 26,\n",
       " 'L': 27,\n",
       " 'V': 28,\n",
       " 'T': 29,\n",
       " '\\xa0': 30,\n",
       " 'U': 31,\n",
       " 'k': 32,\n",
       " 'n': 33,\n",
       " 'v': 34,\n",
       " 'A': 35,\n",
       " 's': 36,\n",
       " '-': 37,\n",
       " 'N': 38,\n",
       " 'E': 39,\n",
       " 't': 40,\n",
       " 'i': 41,\n",
       " 'j': 42,\n",
       " 'O': 43,\n",
       " 'p': 44,\n",
       " 'В': 45,\n",
       " 'Y': 46,\n",
       " 'f': 47,\n",
       " 'G': 48,\n",
       " 'Z': 49,\n",
       " 'e': 50,\n",
       " 'z': 51,\n",
       " 'm': 52}"
      ]
     },
     "execution_count": 5,
     "metadata": {},
     "output_type": "execute_result"
    }
   ],
   "source": [
    "token_to_id = {token: idx for idx, token in enumerate(tokens)}\n",
    "token_to_id"
   ]
  },
  {
   "cell_type": "code",
   "execution_count": 6,
   "id": "3c023e59",
   "metadata": {},
   "outputs": [
    {
     "name": "stdout",
     "output_type": "stream",
     "text": [
      "Seems alright!\n"
     ]
    }
   ],
   "source": [
    "assert len(tokens) == len(token_to_id), \"dictionaries must have same size\"\n",
    "\n",
    "for i in range(num_tokens):\n",
    "    assert token_to_id[tokens[i]] == i, \"token identifier must be it's position in tokens list\"\n",
    "\n",
    "print(\"Seems alright!\")"
   ]
  },
  {
   "cell_type": "code",
   "execution_count": 7,
   "id": "4ec636f5",
   "metadata": {},
   "outputs": [],
   "source": [
    "def to_matrix(data, token_to_id, max_len=None, dtype='int32', batch_first=True):\n",
    "    \"\"\"Casts a list of names into rnn-digestable matrix\"\"\"\n",
    "    \n",
    "    max_len = max_len or max(map(len, data))\n",
    "    data_ix = np.zeros([len(data), max_len], dtype) + token_to_id[' ']\n",
    "\n",
    "    for i in range(len(data)):\n",
    "        line_ix = [token_to_id[c] for c in data[i]]\n",
    "        data_ix[i, :len(line_ix)] = line_ix\n",
    "        \n",
    "    if not batch_first: # convert [batch, time] into [time, batch]\n",
    "        data_ix = np.transpose(data_ix)\n",
    "\n",
    "    return data_ix"
   ]
  },
  {
   "cell_type": "code",
   "execution_count": 8,
   "id": "ef426db2",
   "metadata": {},
   "outputs": [
    {
     "name": "stdout",
     "output_type": "stream",
     "text": [
      " Ababko\n",
      " Chihachev\n",
      " Isaikov\n",
      " Nakhamkin\n",
      " Ustenko\n",
      "[[ 6 35  7 17  7 32 23  6  6  6]\n",
      " [ 6 26 24 41 24 17 22 24 50 34]\n",
      " [ 6 21 36 17 41 32 23 34  6  6]\n",
      " [ 6 38 17 32 24 17 52 32 41 33]\n",
      " [ 6 31 36 40 50 33 32 23  6  6]]\n"
     ]
    }
   ],
   "source": [
    "print('\\n'.join(names[::2000]))\n",
    "print(to_matrix(names[::2000], token_to_id))"
   ]
  },
  {
   "cell_type": "code",
   "execution_count": 9,
   "id": "02f76499",
   "metadata": {},
   "outputs": [
    {
     "data": {
      "text/plain": [
       "array([' Shamuzafarov', ' Awdeenko', ' Marshak', ' Luppov', ' Mojaiskov',\n",
       "       ' Paivin', ' Akimov', ' Jija', ' Mikhalkov', ' Veligura',\n",
       "       ' Bektuganov', ' Averin', ' Ruzankin', ' Dogujiev', ' Makhnenko',\n",
       "       ' Likhovtsev', ' Pirogov', ' Bahorin', ' Judkov', ' Gujvin',\n",
       "       ' Pendyuhov', ' Yagofarov', ' Zhohin', ' Dzhanashiya', ' Tursunov',\n",
       "       ' Chuhontsev', ' Ents', ' Zhigalov', ' Abrosoff', ' Enikolopov',\n",
       "       ' Gatashov', ' Kabachnik'], dtype='<U21')"
      ]
     },
     "execution_count": 9,
     "metadata": {},
     "output_type": "execute_result"
    }
   ],
   "source": [
    "np.random.choice(names, size=32)"
   ]
  },
  {
   "cell_type": "code",
   "execution_count": 10,
   "id": "c0447359",
   "metadata": {},
   "outputs": [],
   "source": [
    "MAX_LENGTH = max(map(len, names))\n",
    "sample = to_matrix(np.random.choice(names, size=5), token_to_id, max_len=MAX_LENGTH)"
   ]
  },
  {
   "cell_type": "code",
   "execution_count": 11,
   "id": "6a8e15ed",
   "metadata": {},
   "outputs": [
    {
     "data": {
      "text/plain": [
       "array([ 6, 29, 12, 18, 17, 41,  6,  6,  6,  6,  6,  6,  6,  6,  6,  6,  6,\n",
       "        6,  6,  6,  6])"
      ]
     },
     "execution_count": 11,
     "metadata": {},
     "output_type": "execute_result"
    }
   ],
   "source": [
    "sample[1]"
   ]
  },
  {
   "cell_type": "code",
   "execution_count": 12,
   "id": "d6c69b84",
   "metadata": {},
   "outputs": [
    {
     "data": {
      "text/plain": [
       "(5, 21, 53)"
      ]
     },
     "execution_count": 12,
     "metadata": {},
     "output_type": "execute_result"
    }
   ],
   "source": [
    "encoded_data = np.zeros(shape=(5, MAX_LENGTH, len(token_to_id)))\n",
    "\n",
    "for text_i, text in enumerate(encoded_data):\n",
    "    for letter_i, letter in enumerate(text):\n",
    "        encoded_data[text_i, letter_i, sample[text_i, letter_i]] = 1\n",
    "\n",
    "encoded_data.shape"
   ]
  },
  {
   "cell_type": "code",
   "execution_count": 13,
   "id": "b09b4740",
   "metadata": {},
   "outputs": [],
   "source": [
    "class BaseLayer(ABC):\n",
    "    @abstractmethod\n",
    "    def __init__(self) -> None:\n",
    "        pass\n",
    "\n",
    "    def __call__(self, x: np.array, grad: bool = True) -> np.array:\n",
    "        return self.forward(x, grad)\n",
    "\n",
    "    @abstractmethod\n",
    "    def forward(self, x: np.array, grad: bool = True) -> np.array:\n",
    "        pass\n",
    "\n",
    "    @abstractmethod\n",
    "    def backward(self, output_error: np.array) -> np.array:\n",
    "        pass\n",
    "\n",
    "\n",
    "class Linear(BaseLayer):\n",
    "    \"\"\"\n",
    "    Linear class permorms ordinary FC layer in neural networks\n",
    "    Parameters:\n",
    "    n_input - size of input neurons\n",
    "    n_output - size of output neurons\n",
    "    Methods:\n",
    "    set_optimizer(optimizer) - is used for setting an optimizer for gradient descent\n",
    "    forward(x) - performs forward pass of the layer\n",
    "    backward(output_error, learning_rate) - performs backward pass of the layer\n",
    "    \"\"\"\n",
    "\n",
    "    def __init__(self, n_input: int, n_output: int) -> None:\n",
    "        super().__init__()\n",
    "        self.input = None\n",
    "        self.n_input = n_input\n",
    "        self.n_output = n_output\n",
    "        self.w = np.random.normal(scale=np.sqrt(2 / (n_input + n_output)), size=(n_input, n_output))\n",
    "        self.b = np.random.normal(scale=np.sqrt(2 / (n_input + n_output)), size=(1, n_output))\n",
    "\n",
    "        self.w_optimizer = None\n",
    "        self.b_optimizer = None\n",
    "\n",
    "    def set_optimizer(self, optimizer) -> None:\n",
    "        self.w_optimizer = copy.copy(optimizer)\n",
    "        self.b_optimizer = copy.copy(optimizer)\n",
    "\n",
    "        self.w_optimizer.set_weight(self.w)\n",
    "        self.b_optimizer.set_weight(self.b)\n",
    "\n",
    "    def forward(self, x: np.array, grad: bool = True) -> np.array:\n",
    "        self.input = x\n",
    "        return x.dot(self.w) + self.b\n",
    "\n",
    "    def backward(self, output_error: np.array) -> np.array:\n",
    "        assert self.w_optimizer is not None and self.b_optimizer is not None, 'You should set an optimizer'\n",
    "        w_grad = self.input.T.dot(output_error)\n",
    "        b_grad = np.ones((1, len(output_error))).dot(output_error)\n",
    "        input_error = output_error.dot(self.w.T)\n",
    "\n",
    "        self.w = self.w_optimizer.step(w_grad)\n",
    "        self.b = self.b_optimizer.step(b_grad)\n",
    "        return input_error\n",
    "\n",
    "\n",
    "class Activation(BaseLayer):\n",
    "    \"\"\"\n",
    "    Activation class is used for activation function of the FC layer\n",
    "    Params:\n",
    "    activation_function - activation function (e.g. sigmoid, RElU, tanh)\n",
    "    activation_derivative - derivative of the activation function\n",
    "    Methods:\n",
    "    forward(x) - performs forward pass of the layer\n",
    "    backward(output_error, learning_rate) - performs backward pass of the layer\n",
    "    \"\"\"\n",
    "\n",
    "    def __init__(self, activation_function: callable, activation_derivative: callable) -> None:\n",
    "        super().__init__()\n",
    "        self.input = None\n",
    "        self.activation = activation_function\n",
    "        self.derivative = activation_derivative\n",
    "\n",
    "    def forward(self, x: np.array, grad: bool = True) -> np.array:\n",
    "        self.input = x\n",
    "        return self.activation(x)\n",
    "\n",
    "    def backward(self, output_error: np.array) -> np.array:\n",
    "        return output_error * self.derivative(self.input)\n",
    "\n",
    "class BaseOptimizer(ABC):\n",
    "    @abstractmethod\n",
    "    def __init__(self) -> None:\n",
    "        pass\n",
    "\n",
    "    @abstractmethod\n",
    "    def set_weight(self, weight: np.array) -> None:\n",
    "        pass\n",
    "\n",
    "    @abstractmethod\n",
    "    def step(self, grad: np.array) -> np.array:\n",
    "        pass\n",
    "\n",
    "class ADAM(BaseOptimizer):\n",
    "    \"\"\"\n",
    "    Implements Adam algorithm.\n",
    "\n",
    "    learning_rate (float, optional) – learning rate (default: 1e-3)\n",
    "    beta1, beta2 (Tuple[float, float], optional) –\n",
    "    coefficients used for computing running averages of gradient and its square (default: (0.9, 0.999))\n",
    "    eps (float, optional) – term added to the denominator to improve numerical stability (default: 1e-8)\n",
    "    \"\"\"\n",
    "\n",
    "    def __init__(self, beta1: float = 0.9, beta2: float = 0.999, eps: float = 1e-8,\n",
    "                 learning_rate: float = 3e-4, weight_decay: float = 0) -> None:\n",
    "        self.beta1 = beta1\n",
    "        self.beta2 = beta2\n",
    "        self.eps = eps\n",
    "        self.learning_rate = learning_rate\n",
    "        self.weight_decay = weight_decay\n",
    "\n",
    "        self.EMA1 = None\n",
    "        self.EMA2 = None\n",
    "\n",
    "        self.weight = None\n",
    "\n",
    "    def set_weight(self, weight: np.array) -> None:\n",
    "        self.weight = weight.copy()\n",
    "        self.EMA1 = np.zeros(shape=self.weight.shape)\n",
    "        self.EMA2 = np.zeros(shape=self.weight.shape)\n",
    "\n",
    "    def step(self, grad: np.array) -> np.array:\n",
    "        assert self.weight is not None, 'You should set the weight'\n",
    "        grad = grad.copy() + self.weight_decay * self.weight\n",
    "        self.EMA1 = (1 - self.beta1) * grad + self.beta1 * self.EMA1\n",
    "        self.EMA2 = (1 - self.beta2) * grad ** 2 + self.beta2 * self.EMA2\n",
    "        self.weight -= self.learning_rate * self.EMA1 / (np.sqrt(self.EMA2) + self.eps)\n",
    "\n",
    "        return self.weight.copy()"
   ]
  },
  {
   "cell_type": "code",
   "execution_count": 14,
   "id": "0dc4cc55",
   "metadata": {},
   "outputs": [],
   "source": [
    "def tanh(z: Union[np.array, float, int, list]) -> Union[np.array, float]:\n",
    "    \"\"\"\n",
    "    Tanh function\n",
    "    \"\"\"\n",
    "    return np.tanh(z)\n",
    "\n",
    "\n",
    "def tanh_derivative(z: Union[np.array, float, int, list]) -> Union[np.array, float]:\n",
    "    \"\"\"\n",
    "    Tanh function derivative\n",
    "    \"\"\"\n",
    "    return 1 - np.tanh(z) ** 2\n",
    "\n",
    "def softmax(z: np.array) -> np.array:\n",
    "    \"\"\"\n",
    "    Softmax function\n",
    "    \"\"\"\n",
    "    return np.exp(z) / np.sum(np.exp(z), axis=1).reshape(-1, 1)\n",
    "\n",
    "def cross_entropy_loss(y_true: np.array, a_pred: np.array) -> float:\n",
    "    \"\"\"\n",
    "    CrossEntropyLoss for multi-classification tasks\n",
    "    :param y_true: 2D vector with classes, i.e. [[0], [3], [4], [1], [2]]\n",
    "    :param a_pred: scores for each class before softmax function with shape [n_samples, n_classes]\n",
    "    :return: CrossEntropyLoss\n",
    "    \"\"\"\n",
    "    lenght_y = list(range(len(y_true)))\n",
    "    arg = -a_pred[lenght_y, y_true.ravel()]\n",
    "    sum_exp = np.sum(np.exp(a_pred), axis=1)\n",
    "    loss = np.sum(arg + np.log(sum_exp))\n",
    "    return loss / len(y_true)\n",
    "\n",
    "\n",
    "def cross_entropy_loss_derivative(y_true: np.array, a_pred: np.array) -> np.array:\n",
    "    \"\"\"\n",
    "    CrossEntropyLoss derivative for multi-classification tasks\n",
    "    :param y_true: 2D vector with classes, i.e. [[0], [3], [4], [1], [2]]\n",
    "    :param a_pred: scores for each class before softmax function with shape [n_samples, n_classes]\n",
    "    :return: np.array with shape [n_samples, n_classes] with CrossEntropyLoss derivatives for each weight\n",
    "    \"\"\"\n",
    "    lenght_y = list(range(len(y_true)))\n",
    "    sum_exp = np.sum(np.exp(a_pred), axis=1).reshape(-1, 1)\n",
    "    loss = np.exp(a_pred.copy()) / sum_exp\n",
    "    loss[lenght_y, y_true.ravel()] -= 1\n",
    "\n",
    "    return loss / len(y_true)"
   ]
  },
  {
   "cell_type": "code",
   "execution_count": 15,
   "id": "239226fe",
   "metadata": {},
   "outputs": [],
   "source": [
    "class RNNCell:\n",
    "    def __init__(\n",
    "        self,\n",
    "        n_input,\n",
    "        n_hidden,\n",
    "        hidden_activation,\n",
    "        hidden_activation_derivative,\n",
    "        bptt_trunc=4\n",
    "    ):\n",
    "        self.n_input = n_input\n",
    "        self.n_hidden = n_hidden\n",
    "        self.bptt_trunc = bptt_trunc\n",
    "        \n",
    "        self.w_in = np.random.normal(scale=np.sqrt(2 / (n_input+n_hidden)), size=(n_input, n_hidden))\n",
    "        self.w_hh = np.random.normal(scale=np.sqrt(1 / n_hidden), size=(n_hidden, n_hidden))\n",
    "        self.w_ho = np.random.normal(scale=np.sqrt(2 / (n_input+n_hidden)), size=(n_hidden, n_input))\n",
    "        \n",
    "        self.b_h = np.random.normal(scale=np.sqrt(1 / (n_hidden)), size=(1, n_hidden))\n",
    "        self.b_y = np.random.normal(scale=np.sqrt(1 / (n_hidden)), size=(1, n_input))\n",
    "        \n",
    "        self.hidden_activation = hidden_activation\n",
    "        self.hidden_activation_derivative = hidden_activation_derivative\n",
    "        \n",
    "        self.state_inputs = None\n",
    "        self.hidden_states = None\n",
    "        self.outputs = None\n",
    "        \n",
    "    def __call__(self, x):\n",
    "        return self.forward(x)\n",
    "    \n",
    "    def set_optimizer(self, optimizer) -> None:\n",
    "        self.w_in_optimizer = copy.copy(optimizer)\n",
    "        self.w_hh_optimizer = copy.copy(optimizer)\n",
    "        self.w_ho_optimizer = copy.copy(optimizer)\n",
    "        \n",
    "        self.b_h_optimizer = copy.copy(optimizer)\n",
    "        self.b_y_optimizer = copy.copy(optimizer)\n",
    "\n",
    "        self.w_in_optimizer.set_weight(self.w_in)\n",
    "        self.w_hh_optimizer.set_weight(self.w_hh)\n",
    "        self.w_ho_optimizer.set_weight(self.w_ho)\n",
    "        \n",
    "        self.b_h_optimizer.set_weight(self.b_h)\n",
    "        self.b_y_optimizer.set_weight(self.b_y)\n",
    "        \n",
    "    def forward(self, x):\n",
    "        self.input = x\n",
    "        batch_size, timesteps, input_dim = x.shape\n",
    "\n",
    "        self.state_inputs = np.zeros((batch_size, timesteps, self.n_hidden))\n",
    "        self.hidden_states = np.zeros((batch_size, timesteps+1, self.n_hidden))\n",
    "        self.outputs = np.zeros((batch_size, timesteps, self.n_input))\n",
    "\n",
    "        self.hidden_states[:, -1] = np.zeros((batch_size, self.n_hidden))\n",
    "        for t in range(timesteps):\n",
    "            self.state_inputs[:, t] = x[:, t].dot(self.w_in) + self.hidden_states[:, t-1].dot(self.w_hh) + self.b_h\n",
    "            self.hidden_states[:, t] = self.hidden_activation(self.state_inputs[:, t])\n",
    "            self.outputs[:, t] = self.hidden_states[:, t].dot(self.w_ho) + self.b_y\n",
    "\n",
    "        return self.outputs\n",
    "    \n",
    "    def backward(self, output_error):        \n",
    "        _, timesteps, _ = output_error.shape\n",
    "\n",
    "        w_in_grad = np.zeros_like(self.w_in)\n",
    "        w_hh_grad = np.zeros_like(self.w_hh)\n",
    "        w_ho_grad = np.zeros_like(self.w_ho)\n",
    "        b_h_grad = np.zeros_like(self.b_h)\n",
    "        b_y_grad = np.zeros_like(self.b_y)\n",
    "        input_error = np.zeros_like(output_error)\n",
    "\n",
    "        for t in np.arange(timesteps)[::-1]:\n",
    "            w_ho_grad += self.hidden_states[:, t].T.dot(output_error[:, t])\n",
    "            b_y_grad += np.ones((1, len(output_error[:, t]))).dot(output_error[:, t])\n",
    "            hidden_error = output_error[:, t].dot(self.w_ho.T) * self.hidden_activation_derivative(self.state_inputs[:, t])\n",
    "            input_error[:, t] = hidden_error.dot(self.w_in.T)\n",
    "            for t_ in np.arange(max(0, t - self.bptt_trunc), t+1)[::-1]:\n",
    "                w_in_grad += self.input[:, t_].T.dot(hidden_error)\n",
    "                w_hh_grad += self.hidden_states[:, t_-1].T.dot(hidden_error)\n",
    "                b_h_grad += np.ones((1, len(hidden_error))).dot(hidden_error)\n",
    "                hidden_error = hidden_error.dot(self.w_hh.T) * self.hidden_activation_derivative(self.state_inputs[:, t_-1])\n",
    "\n",
    "        self.w_in = self.w_in_optimizer.step(w_in_grad)\n",
    "        self.w_hh = self.w_hh_optimizer.step(w_hh_grad)\n",
    "        self.w_ho = self.w_ho_optimizer.step(w_ho_grad)\n",
    "        self.b_h = self.b_h_optimizer.step(b_h_grad)\n",
    "        self.b_y = self.b_y_optimizer.step(b_y_grad)\n",
    "\n",
    "        return input_error"
   ]
  },
  {
   "cell_type": "code",
   "execution_count": 16,
   "id": "3bd27e7f",
   "metadata": {},
   "outputs": [
    {
     "data": {
      "image/png": "[encoded data removed]",
      "text/plain": [
       "<Figure size 432x288 with 1 Axes>"
      ]
     },
     "metadata": {
      "needs_background": "light"
     },
     "output_type": "display_data"
    }
   ],
   "source": [
    "rnncell = RNNCell(\n",
    "    n_input=len(token_to_id),\n",
    "    n_hidden=64,\n",
    "    hidden_activation=tanh,\n",
    "    hidden_activation_derivative=tanh_derivative,\n",
    "    bptt_trunc=15\n",
    ")\n",
    "rnncell.set_optimizer(ADAM(learning_rate=0.001))\n",
    "\n",
    "batch_size = 32\n",
    "history = []\n",
    "for i in range(1000):\n",
    "    batch_ix = to_matrix(np.random.choice(names, size=batch_size), token_to_id, max_len=MAX_LENGTH)\n",
    "    \n",
    "    encoded_data = np.zeros(shape=(batch_size, MAX_LENGTH, len(token_to_id)))\n",
    "\n",
    "    for text_i, text in enumerate(encoded_data):\n",
    "        for letter_i, letter in enumerate(text):\n",
    "            encoded_data[text_i, letter_i, batch_ix[text_i, letter_i]] = 1\n",
    "    \n",
    "    pred = rnncell(encoded_data)\n",
    "\n",
    "    loss = 0\n",
    "    for t in range(batch_ix.shape[1]-1):\n",
    "        loss += cross_entropy_loss(batch_ix[:, t+1].reshape(-1, 1), pred[:, t, :])\n",
    "        \n",
    "    errors = np.zeros(shape=(batch_size, MAX_LENGTH-1, len(token_to_id)))\n",
    "    for t in range(errors.shape[1]-1):\n",
    "        errors[:, t, :] = cross_entropy_loss_derivative(batch_ix[:, t+1].reshape(-1, 1), pred[:, t, :])\n",
    "    \n",
    "    rnncell.backward(errors)\n",
    "    \n",
    "    # visualizing training process\n",
    "    history.append(loss / batch_size)\n",
    "    if (i + 1) % 100 == 0:\n",
    "        clear_output(True)\n",
    "        plt.plot(history,label='loss')\n",
    "        plt.legend()\n",
    "        plt.show()\n",
    "\n",
    "assert np.mean(history[:10]) > np.mean(history[-10:]), \"RNN didn't converge.\""
   ]
  },
  {
   "cell_type": "markdown",
   "id": "3ec53151",
   "metadata": {},
   "source": [
    "We have $C$ words in our vocabulary, so each word should be (on average) predicted with probability $1/C$, which would yield a loss of $L = -\\frac{1}{N} N \\log\\frac{1}{C} = \\log C$"
   ]
  },
  {
   "cell_type": "code",
   "execution_count": 17,
   "id": "a3471400",
   "metadata": {},
   "outputs": [
    {
     "data": {
      "text/plain": [
       "0.5274381494191192"
      ]
     },
     "execution_count": 17,
     "metadata": {},
     "output_type": "execute_result"
    }
   ],
   "source": [
    "history[-1]"
   ]
  },
  {
   "cell_type": "code",
   "execution_count": 18,
   "id": "83a7df87",
   "metadata": {},
   "outputs": [
    {
     "data": {
      "text/plain": [
       "3.970291913552122"
      ]
     },
     "execution_count": 18,
     "metadata": {},
     "output_type": "execute_result"
    }
   ],
   "source": [
    "np.log(len(token_to_id))"
   ]
  },
  {
   "cell_type": "code",
   "execution_count": 19,
   "id": "e6187bd2",
   "metadata": {},
   "outputs": [
    {
     "data": {
      "text/plain": [
       "array([[-2.63676065,  2.50039585, -1.44706946, ..., -1.48239181,\n",
       "        -2.55405259, -1.87808507],\n",
       "       [ 2.27350196, -2.61678972,  1.40036065, ...,  4.95006757,\n",
       "         0.45848294,  0.03281407],\n",
       "       [ 0.79930048, -3.39286087,  4.44132459, ...,  2.12714613,\n",
       "         3.22476402,  2.37378985],\n",
       "       ...,\n",
       "       [-2.13598739, -2.43904286, -3.11043029, ..., -1.87505659,\n",
       "        -3.81978364, -5.12203863],\n",
       "       [-2.13494202, -2.43669423, -3.11886098, ..., -1.88057382,\n",
       "        -3.82886004, -5.12978944],\n",
       "       [-2.13611471, -2.43810651, -3.11800694, ..., -1.88566641,\n",
       "        -3.82746185, -5.13412428]])"
      ]
     },
     "execution_count": 19,
     "metadata": {},
     "output_type": "execute_result"
    }
   ],
   "source": [
    "pred[0, :-1]"
   ]
  },
  {
   "cell_type": "code",
   "execution_count": 20,
   "id": "08987854",
   "metadata": {},
   "outputs": [
    {
     "data": {
      "text/plain": [
       "(20, 53)"
      ]
     },
     "execution_count": 20,
     "metadata": {},
     "output_type": "execute_result"
    }
   ],
   "source": [
    "pred[0, :-1].shape"
   ]
  },
  {
   "cell_type": "code",
   "execution_count": 21,
   "id": "d2c839b1",
   "metadata": {},
   "outputs": [
    {
     "data": {
      "text/plain": [
       "array([[35],\n",
       "       [17],\n",
       "       [32],\n",
       "       [17],\n",
       "       [33],\n",
       "       [23],\n",
       "       [34],\n",
       "       [36],\n",
       "       [32],\n",
       "       [ 0],\n",
       "       [ 6],\n",
       "       [ 6],\n",
       "       [ 6],\n",
       "       [ 6],\n",
       "       [ 6],\n",
       "       [ 6],\n",
       "       [ 6],\n",
       "       [ 6],\n",
       "       [ 6],\n",
       "       [ 6]], dtype=int64)"
      ]
     },
     "execution_count": 21,
     "metadata": {},
     "output_type": "execute_result"
    }
   ],
   "source": [
    "np.argmax(pred[0, :-1], axis=1, keepdims=True)"
   ]
  },
  {
   "cell_type": "code",
   "execution_count": 22,
   "id": "074392b0",
   "metadata": {},
   "outputs": [
    {
     "data": {
      "text/plain": [
       "array([[14],\n",
       "       [17],\n",
       "       [ 2],\n",
       "       [17],\n",
       "       [24],\n",
       "       [23],\n",
       "       [13],\n",
       "       [36],\n",
       "       [32],\n",
       "       [41],\n",
       "       [ 6],\n",
       "       [ 6],\n",
       "       [ 6],\n",
       "       [ 6],\n",
       "       [ 6],\n",
       "       [ 6],\n",
       "       [ 6],\n",
       "       [ 6],\n",
       "       [ 6],\n",
       "       [ 6]])"
      ]
     },
     "execution_count": 22,
     "metadata": {},
     "output_type": "execute_result"
    }
   ],
   "source": [
    "batch_ix[0, 1:].reshape(-1, 1)"
   ]
  },
  {
   "cell_type": "code",
   "execution_count": 23,
   "id": "bbb7e47d",
   "metadata": {},
   "outputs": [
    {
     "data": {
      "text/plain": [
       "array([35, 17, 25, 24, 41, 23, 33,  6, 34,  6,  6,  6,  6,  6,  6,  6,  6,\n",
       "        6,  6,  6,  6], dtype=int64)"
      ]
     },
     "execution_count": 23,
     "metadata": {},
     "output_type": "execute_result"
    }
   ],
   "source": [
    "np.argmax(pred[-1, :], axis=1)"
   ]
  },
  {
   "cell_type": "code",
   "execution_count": 24,
   "id": "3f72ff24",
   "metadata": {},
   "outputs": [
    {
     "name": "stdout",
     "output_type": "stream",
     "text": [
      "A\n",
      "a\n",
      "r\n",
      "h\n",
      "i\n",
      "o\n",
      "n\n",
      " \n",
      "v\n",
      " \n",
      " \n",
      " \n",
      " \n",
      " \n",
      " \n",
      " \n",
      " \n",
      " \n",
      " \n",
      " \n",
      " \n"
     ]
    }
   ],
   "source": [
    "for i in np.argmax(pred[-1, :], axis=1):\n",
    "    print(tokens[i])"
   ]
  },
  {
   "cell_type": "code",
   "execution_count": 25,
   "id": "23647673",
   "metadata": {},
   "outputs": [
    {
     "name": "stdout",
     "output_type": "stream",
     "text": [
      " \n",
      "M\n",
      "o\n",
      "s\n",
      "h\n",
      "k\n",
      "u\n",
      "n\n",
      "o\n",
      "v\n",
      " \n",
      " \n",
      " \n",
      " \n",
      " \n",
      " \n",
      " \n",
      " \n",
      " \n",
      " \n",
      " \n"
     ]
    }
   ],
   "source": [
    "for i in batch_ix[-1, :]:\n",
    "    print(tokens[i])"
   ]
  },
  {
   "cell_type": "code",
   "execution_count": 26,
   "id": "dae83f3e",
   "metadata": {},
   "outputs": [],
   "source": [
    "def generate_sample(char_rnn, seed_phrase=' ', max_length=MAX_LENGTH, temperature=1.0):\n",
    "    phrase = copy.copy(seed_phrase)\n",
    "    \n",
    "    for t in range(len(seed_phrase)-1, max_length-len(seed_phrase)):\n",
    "        x_sequence = to_matrix([phrase], token_to_id, max_len=max_length)\n",
    "        encoded_data = np.zeros(shape=(1, max_length, len(token_to_id)))\n",
    "\n",
    "        for text_i, text in enumerate(encoded_data):\n",
    "            for letter_i, letter in enumerate(text):\n",
    "                encoded_data[text_i, letter_i, x_sequence[text_i, letter_i]] = 1\n",
    "\n",
    "        pred = char_rnn(encoded_data)\n",
    "        probs = softmax(pred[:, t] / temperature).ravel()\n",
    "        next_ix = np.random.choice(len(tokens), p=probs)\n",
    "        phrase += tokens[next_ix]\n",
    "    return phrase"
   ]
  },
  {
   "cell_type": "code",
   "execution_count": 27,
   "id": "c5893d73",
   "metadata": {},
   "outputs": [
    {
     "name": "stdout",
     "output_type": "stream",
     "text": [
      " Dovichev            \n",
      " Grukhin             \n",
      " Marsky              \n",
      " Permonov            \n",
      " Abaranov            \n",
      " Avaev               \n",
      " Tovakov             \n",
      " Harakhanov          \n",
      " Delen               \n",
      " Turonov             \n"
     ]
    }
   ],
   "source": [
    "for _ in range(10):\n",
    "    print(generate_sample(rnncell, seed_phrase=' ', temperature=0.4))"
   ]
  },
  {
   "cell_type": "markdown",
   "id": "dbd8a1ce",
   "metadata": {},
   "source": [
    "![](./images/rnn.png)\n",
    "![](./images/graph_meanings.png)"
   ]
  },
  {
   "cell_type": "code",
   "execution_count": 28,
   "id": "d14d6e83",
   "metadata": {},
   "outputs": [],
   "source": [
    "class RNNUnit:\n",
    "    def __init__(\n",
    "        self,\n",
    "        n_input,\n",
    "        n_hidden,\n",
    "        bptt_trunc=4\n",
    "    ):\n",
    "        self.n_input = n_input\n",
    "        self.n_hidden = n_hidden\n",
    "        self.bptt_trunc = bptt_trunc\n",
    "        \n",
    "        self.rnn_update = Linear(n_input + n_hidden, n_hidden)\n",
    "        self.hidden_activation = Activation(tanh, tanh_derivative)\n",
    "        self.rnn_to_logits = Linear(n_hidden, n_input)\n",
    "        \n",
    "        self.x_and_h = None\n",
    "        self.state_inputs = None\n",
    "        self.hidden_states = None\n",
    "        self.outputs = None\n",
    "        \n",
    "    def __call__(self, x):\n",
    "        return self.forward(x)\n",
    "    \n",
    "    def set_optimizer(self, optimizer) -> None:\n",
    "        self.rnn_update.set_optimizer(optimizer)\n",
    "        self.rnn_to_logits.set_optimizer(optimizer)\n",
    "        \n",
    "    def forward(self, x):\n",
    "        self.input = x\n",
    "        batch_size, timesteps, input_dim = x.shape\n",
    "        \n",
    "        self.x_and_h = np.zeros((batch_size, timesteps, self.n_input+self.n_hidden))\n",
    "        self.state_inputs = np.zeros((batch_size, timesteps, self.n_hidden))\n",
    "        self.hidden_states = np.zeros((batch_size, timesteps+1, self.n_hidden))\n",
    "        self.outputs = np.zeros((batch_size, timesteps, self.n_input))\n",
    "\n",
    "        self.hidden_states[:, -1] = np.zeros((batch_size, self.n_hidden))\n",
    "        for t in range(timesteps):\n",
    "            self.x_and_h[:, t] = np.concatenate((x[:, t], self.hidden_states[:, t-1]), axis=1)\n",
    "            self.state_inputs[:, t] = self.rnn_update(self.x_and_h[:, t])\n",
    "            self.hidden_states[:, t] = self.hidden_activation(self.state_inputs[:, t])\n",
    "            self.outputs[:, t] = self.rnn_to_logits(self.hidden_states[:, t])\n",
    "\n",
    "        return self.outputs\n",
    "    \n",
    "    def backward(self, output_error):        \n",
    "        _, timesteps, _ = output_error.shape\n",
    "\n",
    "        input_error = np.zeros_like(output_error)\n",
    "        for t in np.arange(timesteps)[::-1]:\n",
    "            self.rnn_to_logits.input = self.hidden_states[:, t]\n",
    "            self.rnn_update.input = self.x_and_h[:, t]\n",
    "            self.hidden_activation.input = self.state_inputs[:, t]\n",
    "            \n",
    "            hidden_error = self.rnn_to_logits.backward(output_error[:, t])\n",
    "            hidden_error = self.hidden_activation.backward(hidden_error)\n",
    "            hidden_and_input_error = self.rnn_update.backward(hidden_error)\n",
    "            \n",
    "            input_error[:, t] = hidden_and_input_error[:, :self.n_input]\n",
    "            hidden_error = hidden_and_input_error[:, -self.n_hidden:]\n",
    "            \n",
    "            for t_ in np.arange(max(0, t - self.bptt_trunc), t+1)[::-1]:\n",
    "                self.rnn_update.input = self.x_and_h[:, t_]\n",
    "                self.hidden_activation.input = self.state_inputs[:, t_]\n",
    "                \n",
    "                hidden_error = self.hidden_activation.backward(hidden_error)\n",
    "                hidden_error = self.rnn_update.backward(hidden_error)[:, -self.n_hidden:]\n",
    "\n",
    "        return input_error"
   ]
  },
  {
   "cell_type": "code",
   "execution_count": 29,
   "id": "51a6700b",
   "metadata": {},
   "outputs": [],
   "source": [
    "rnn_unit = RNNUnit(n_input=len(token_to_id),\n",
    "    n_hidden=64,\n",
    "    bptt_trunc=15)\n",
    "\n",
    "rnn_unit.set_optimizer(ADAM())"
   ]
  },
  {
   "cell_type": "code",
   "execution_count": 30,
   "id": "61706614",
   "metadata": {},
   "outputs": [
    {
     "data": {
      "text/plain": [
       "(32, 21, 53)"
      ]
     },
     "execution_count": 30,
     "metadata": {},
     "output_type": "execute_result"
    }
   ],
   "source": [
    "encoded_data.shape"
   ]
  },
  {
   "cell_type": "code",
   "execution_count": 31,
   "id": "8d409886",
   "metadata": {},
   "outputs": [
    {
     "data": {
      "text/plain": [
       "(32, 21, 53)"
      ]
     },
     "execution_count": 31,
     "metadata": {},
     "output_type": "execute_result"
    }
   ],
   "source": [
    "rnn_unit.forward(encoded_data).shape"
   ]
  },
  {
   "cell_type": "code",
   "execution_count": 32,
   "id": "759ecddd",
   "metadata": {},
   "outputs": [
    {
     "data": {
      "text/plain": [
       "array([[[-2.74608577e-03, -5.79425457e-03, -2.14790694e-03, ...,\n",
       "         -1.80334005e-03, -1.12174948e-03, -2.58136456e-03],\n",
       "        [-1.86948675e-03, -1.33004010e-03,  1.97974102e-03, ...,\n",
       "         -4.45780070e-03, -3.91690070e-03,  1.27637411e-03],\n",
       "        [-9.57460481e-03, -1.12698060e-03, -9.81420730e-03, ...,\n",
       "         -8.67042031e-03, -5.84562927e-03, -2.51545912e-03],\n",
       "        ...,\n",
       "        [ 2.26927333e-03, -3.44720904e-03,  1.42750005e-03, ...,\n",
       "          7.99095866e-04,  2.05859163e-03, -6.70137176e-03],\n",
       "        [ 2.40075092e-03, -3.13854161e-03,  1.35105651e-03, ...,\n",
       "          9.34521199e-04,  1.98851005e-03, -6.81246782e-03],\n",
       "        [ 0.00000000e+00,  0.00000000e+00,  0.00000000e+00, ...,\n",
       "          0.00000000e+00,  0.00000000e+00,  0.00000000e+00]],\n",
       "\n",
       "       [[ 5.17410499e-03,  4.53441095e-03,  7.16721252e-03, ...,\n",
       "          4.89188887e-03,  2.57086161e-03,  1.65227604e-03],\n",
       "        [-2.68645486e-03, -1.84294136e-03,  1.71624561e-03, ...,\n",
       "         -4.76350799e-03, -3.93753442e-03,  1.04101330e-03],\n",
       "        [-9.79938601e-03, -9.26948733e-04, -1.01720310e-02, ...,\n",
       "         -8.58487413e-03, -6.20091136e-03, -2.61403878e-03],\n",
       "        ...,\n",
       "        [ 2.19765760e-03, -3.34112630e-03,  1.37357330e-03, ...,\n",
       "          6.69400969e-04,  2.13404898e-03, -6.60626315e-03],\n",
       "        [ 2.31770597e-03, -3.28903671e-03,  1.37318043e-03, ...,\n",
       "          9.88979194e-04,  2.02601554e-03, -6.82513211e-03],\n",
       "        [ 0.00000000e+00,  0.00000000e+00,  0.00000000e+00, ...,\n",
       "          0.00000000e+00,  0.00000000e+00,  0.00000000e+00]],\n",
       "\n",
       "       [[ 5.17410499e-03,  4.53441095e-03,  7.16721252e-03, ...,\n",
       "          4.89188887e-03,  2.57086161e-03,  1.65227604e-03],\n",
       "        [ 8.24457587e-03,  2.64920805e-03,  3.93644466e-03, ...,\n",
       "          1.58344810e-03,  3.92147820e-03,  6.15265754e-03],\n",
       "        [-4.30288797e-03,  3.95975727e-03, -5.30646390e-03, ...,\n",
       "          1.59659774e-03,  3.65912109e-03,  6.61202689e-04],\n",
       "        ...,\n",
       "        [ 2.28877395e-03, -3.28298255e-03,  1.43177124e-03, ...,\n",
       "          6.84007887e-04,  2.07720939e-03, -6.65911889e-03],\n",
       "        [ 2.28608623e-03, -3.19896792e-03,  1.34784960e-03, ...,\n",
       "          9.25523771e-04,  2.06511609e-03, -6.80874461e-03],\n",
       "        [ 0.00000000e+00,  0.00000000e+00,  0.00000000e+00, ...,\n",
       "          0.00000000e+00,  0.00000000e+00,  0.00000000e+00]],\n",
       "\n",
       "       ...,\n",
       "\n",
       "       [[ 3.51563994e-03,  1.28165564e-03,  3.74051202e-03, ...,\n",
       "          1.26330470e-03,  2.17768176e-03, -6.12799582e-03],\n",
       "        [-7.39728435e-03, -3.47436997e-03,  2.69695768e-03, ...,\n",
       "          3.22399412e-03,  1.26474956e-03,  7.76465478e-04],\n",
       "        [ 8.92179954e-03,  2.89962122e-03,  4.80808108e-03, ...,\n",
       "          2.17845604e-03,  4.17810994e-03,  6.95242595e-03],\n",
       "        ...,\n",
       "        [ 2.24996456e-03, -3.25155546e-03,  1.39943596e-03, ...,\n",
       "          6.35645096e-04,  2.13681708e-03, -6.61594038e-03],\n",
       "        [ 2.30140882e-03, -3.24841964e-03,  1.32696394e-03, ...,\n",
       "          9.27824623e-04,  2.04852048e-03, -6.81233369e-03],\n",
       "        [ 0.00000000e+00,  0.00000000e+00,  0.00000000e+00, ...,\n",
       "          0.00000000e+00,  0.00000000e+00,  0.00000000e+00]],\n",
       "\n",
       "       [[ 6.57473945e-03, -9.30850274e-04,  6.00865395e-03, ...,\n",
       "         -2.32079959e-03,  4.06494845e-03,  1.14616711e-03],\n",
       "        [ 7.42335553e-03,  4.31736919e-03,  2.74677453e-03, ...,\n",
       "          5.72028197e-03,  3.08445900e-03, -1.05396330e-03],\n",
       "        [-4.24102816e-03,  4.13780238e-03, -4.52932249e-04, ...,\n",
       "          5.42184260e-03, -1.42422320e-04,  5.81815702e-03],\n",
       "        ...,\n",
       "        [ 2.26477032e-03, -3.29445898e-03,  1.41901043e-03, ...,\n",
       "          6.85255338e-04,  2.12376560e-03, -6.63192498e-03],\n",
       "        [ 2.30998630e-03, -3.24995678e-03,  1.35209809e-03, ...,\n",
       "          9.31507199e-04,  2.04793806e-03, -6.83139469e-03],\n",
       "        [ 0.00000000e+00,  0.00000000e+00,  0.00000000e+00, ...,\n",
       "          0.00000000e+00,  0.00000000e+00,  0.00000000e+00]],\n",
       "\n",
       "       [[ 1.76700226e-03, -1.56621496e-03,  3.17557898e-04, ...,\n",
       "         -3.69190716e-03, -1.29220510e-03,  1.80181626e-03],\n",
       "        [ 4.26790532e-04,  2.17537801e-03,  1.81357262e-04, ...,\n",
       "         -3.58448612e-03, -1.62319440e-03, -5.64171640e-03],\n",
       "        [-3.03972220e-04,  9.71188642e-05,  4.03608066e-03, ...,\n",
       "          1.04496488e-02,  1.28291483e-03,  4.45825641e-03],\n",
       "        ...,\n",
       "        [ 2.28556188e-03, -3.34042940e-03,  1.44552584e-03, ...,\n",
       "          7.24036520e-04,  2.10155647e-03, -6.65191665e-03],\n",
       "        [ 2.33541688e-03, -3.18448077e-03,  1.34790669e-03, ...,\n",
       "          8.87835704e-04,  2.04393838e-03, -6.83743359e-03],\n",
       "        [ 0.00000000e+00,  0.00000000e+00,  0.00000000e+00, ...,\n",
       "          0.00000000e+00,  0.00000000e+00,  0.00000000e+00]]])"
      ]
     },
     "execution_count": 32,
     "metadata": {},
     "output_type": "execute_result"
    }
   ],
   "source": [
    "pred = rnn_unit(encoded_data)\n",
    "\n",
    "loss = 0\n",
    "for t in range(batch_ix.shape[1]-1):\n",
    "    loss += cross_entropy_loss(batch_ix[:, t+1].reshape(-1, 1), pred[:, t, :])\n",
    "\n",
    "errors = np.zeros(shape=(batch_size, MAX_LENGTH-1, len(token_to_id)))\n",
    "for t in range(errors.shape[1]-1):\n",
    "    errors[:, t, :] = cross_entropy_loss_derivative(batch_ix[:, t+1].reshape(-1, 1), pred[:, t, :])\n",
    "\n",
    "rnn_unit.backward(errors)"
   ]
  },
  {
   "cell_type": "code",
   "execution_count": 33,
   "id": "14d8b656",
   "metadata": {},
   "outputs": [
    {
     "data": {
      "image/png": "[encoded data removed]",
      "text/plain": [
       "<Figure size 432x288 with 1 Axes>"
      ]
     },
     "metadata": {
      "needs_background": "light"
     },
     "output_type": "display_data"
    }
   ],
   "source": [
    "rnnunit = RNNUnit(\n",
    "    n_input=len(token_to_id),\n",
    "    n_hidden=64,\n",
    "    bptt_trunc=20\n",
    ")\n",
    "rnnunit.set_optimizer(ADAM(learning_rate=0.0001))\n",
    "\n",
    "batch_size = 32\n",
    "history = []\n",
    "for i in range(1000):\n",
    "    batch_ix = to_matrix(np.random.choice(names, size=batch_size), token_to_id, max_len=MAX_LENGTH)\n",
    "    \n",
    "    encoded_data = np.zeros(shape=(batch_size, MAX_LENGTH, len(token_to_id)))\n",
    "\n",
    "    for text_i, text in enumerate(encoded_data):\n",
    "        for letter_i, letter in enumerate(text):\n",
    "            encoded_data[text_i, letter_i, batch_ix[text_i, letter_i]] = 1\n",
    "    \n",
    "    pred = rnnunit(encoded_data)\n",
    "\n",
    "    loss = 0\n",
    "    for t in range(batch_ix.shape[1]-1):\n",
    "        loss += cross_entropy_loss(batch_ix[:, t+1].reshape(-1, 1), pred[:, t, :])\n",
    "        \n",
    "    errors = np.zeros(shape=(batch_size, MAX_LENGTH-1, len(token_to_id)))\n",
    "    for t in range(errors.shape[1]-1):\n",
    "        errors[:, t, :] = cross_entropy_loss_derivative(batch_ix[:, t+1].reshape(-1, 1), pred[:, t, :])\n",
    "    \n",
    "    rnnunit.backward(errors)\n",
    "    \n",
    "    # visualizing training process\n",
    "    history.append(loss / batch_size)\n",
    "    if (i + 1) % 100 == 0:\n",
    "        clear_output(True)\n",
    "        plt.plot(history,label='loss')\n",
    "        plt.legend()\n",
    "        plt.show()\n",
    "\n",
    "assert np.mean(history[:10]) > np.mean(history[-10:]), \"RNN didn't converge.\""
   ]
  },
  {
   "cell_type": "code",
   "execution_count": 34,
   "id": "5508caae",
   "metadata": {},
   "outputs": [
    {
     "name": "stdout",
     "output_type": "stream",
     "text": [
      " Makhin              \n",
      " Abanov              \n",
      " Vaderov             \n",
      " Linkov              \n",
      " Gakhanov            \n",
      " Balanov             \n",
      " Avdinov             \n",
      " Makhan              \n",
      " Eadev               \n",
      " Tulov               \n"
     ]
    }
   ],
   "source": [
    "for _ in range(10):\n",
    "    print(generate_sample(rnnunit, seed_phrase=' ', temperature=0.4))"
   ]
  },
  {
   "cell_type": "code",
   "execution_count": 35,
   "id": "a1f6c6a9",
   "metadata": {},
   "outputs": [
    {
     "data": {
      "text/plain": [
       "0.5494931349042641"
      ]
     },
     "execution_count": 35,
     "metadata": {},
     "output_type": "execute_result"
    }
   ],
   "source": [
    "history[-1]"
   ]
  },
  {
   "cell_type": "code",
   "execution_count": 36,
   "id": "3ef206c1",
   "metadata": {},
   "outputs": [
    {
     "data": {
      "text/html": [
       "<style>\n",
       "\n",
       "div #notebook {\n",
       "    background-color: #FFF9EE;\n",
       "    margin: auto;\n",
       "}\n",
       "\n",
       "#notebook-container {\n",
       "    padding: 15px;\n",
       "    background-color: #FFFAFA;\n",
       "    min-height: 0;\n",
       "    -webkit-box-shadow: 0px 0px 12px 1px rgba(87, 87, 87, 0.2);\n",
       "    box-shadow: 0px 0px 12px 1px rgba(87, 87, 87, 0.2);\n",
       "}\n",
       "\n",
       "div.cell { /* set cell width to about 80 chars */\n",
       "    background-color: #FFFAFA;\n",
       "}\n",
       "\n",
       "div.cell.border-box-sizing.code_cell.running { \n",
       "    border: 3px solid #111;\n",
       "}\n",
       "\n",
       "div.cell.code_cell {\n",
       "    background-color: #FFFAFA ;\n",
       "    border-radius: 5px;\n",
       "    padding: 1em;\n",
       "    margin-top: 1em;\n",
       "}\n",
       "\n",
       "div.text_cell_render{\n",
       "    font-family: 'Times New Roman';\n",
       "    color: #B8860B\n",
       "}\n",
       "\n",
       ".text_cell_render h1 {\n",
       "    font-family: 'Times New Roman';\n",
       "    font-weight: 300;\n",
       "    font-size: 40pt;\n",
       "    line-height: 100%;\n",
       "    color: #8B4513;\n",
       "    font-style: italic;\n",
       "}\n",
       "\n",
       ".text_cell_render h2 {\n",
       "    font-family: 'Times New Roman';\n",
       "    font-weight: 700;\n",
       "    font-size: 30pt;\n",
       "    line-height: 100%;\n",
       "    color: #8B4513;\n",
       "    font-style: italic;\n",
       "}\n",
       "\n",
       ".text_cell_render h3 {\n",
       "    font-family: 'Times New Roman';\n",
       "    font-size: 25pt;\n",
       "    margin-bottom: 3px;\n",
       "    font-style: italic;\n",
       "    color: #8B4513;\n",
       "}\n",
       "\n",
       ".text_cell_render h4 {\n",
       "    font-family: 'Times New Roman';\n",
       "    font-size: 20pt;\n",
       "    color: #8B4513;\n",
       "    font-style: italic;\n",
       "}\n",
       "\n",
       ".text_cell_render h5 {\n",
       "    font-family: 'Times New Roman';\n",
       "    font-weight: 300;\n",
       "    font-size: 16pt;\n",
       "    color: #8B4513;\n",
       "    font-style: italic;\n",
       "}\n",
       "\n",
       ".text_cell_render h6 {\n",
       "    font-family: 'Times New Roman';\n",
       "    font-weight: 300;\n",
       "    font-size: 10pt;\n",
       "    color: #8B4513;\n",
       "    font-style: italic;\n",
       "}\n",
       "\n",
       ".text_cell_render p {\n",
       "    font-family: 'Times New Roman';\n",
       "    font-size: 15pt;\n",
       "    color: black;\n",
       "    text-align: justify;\n",
       "    text-justify: inter-word;\n",
       "    line-height: 1.5;\n",
       "}\n",
       "\n",
       "mark {\n",
       "  background: #D5EAFF;\n",
       "  color: black;\n",
       "}\n",
       "\n",
       ".output_wrapper, .output {\n",
       "    height:auto !important;\n",
       "    max-height:2000px;  /* your desired max-height here */\n",
       "}\n",
       "\n",
       ".CodeMirror{\n",
       "    background-color: #FFFAFA;\n",
       "}\n",
       "</style>"
      ],
      "text/plain": [
       "<IPython.core.display.HTML object>"
      ]
     },
     "execution_count": 36,
     "metadata": {},
     "output_type": "execute_result"
    }
   ],
   "source": [
    "with open('./style.css') as f:\n",
    "    style = f.read()\n",
    "HTML(style)"
   ]
  }
 ],
 "metadata": {
  "kernelspec": {
   "display_name": "data_science_39",
   "language": "python",
   "name": "data_science_39"
  },
  "language_info": {
   "codemirror_mode": {
    "name": "ipython",
    "version": 3
   },
   "file_extension": ".py",
   "mimetype": "text/x-python",
   "name": "python",
   "nbconvert_exporter": "python",
   "pygments_lexer": "ipython3",
   "version": "3.9.13"
  }
 },
 "nbformat": 4,
 "nbformat_minor": 5
}
