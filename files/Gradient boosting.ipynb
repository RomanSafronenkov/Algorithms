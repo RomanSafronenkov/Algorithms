{
 "cells": [
  {
   "cell_type": "markdown",
   "metadata": {},
   "source": [
    "<h1>Gradient Boosting</h1>"
   ]
  },
  {
   "cell_type": "code",
   "execution_count": 23,
   "metadata": {},
   "outputs": [],
   "source": [
    "import numpy as np\n",
    "import pandas as pd\n",
    "import matplotlib.pyplot as plt\n",
    "import copy\n",
    "from sklearn.datasets import load_boston\n",
    "from sklearn.model_selection import train_test_split\n",
    "from sklearn.tree import DecisionTreeRegressor\n",
    "from sklearn.metrics import r2_score\n",
    "\n",
    "from IPython.display import HTML"
   ]
  },
  {
   "cell_type": "code",
   "execution_count": 19,
   "metadata": {},
   "outputs": [],
   "source": [
    "class DecisionTreeRegressor_:\n",
    "    '''\n",
    "    DecisionTreeRegressor class is used to permorm CART algorithm for Decision Tree Regressor.\n",
    "    *****************************************************************************************\n",
    "    Attributes:\n",
    "    max_depth - int; adjusts the depth of the tree\n",
    "    min_samples_split - int; set the minimum size to split\n",
    "    *****************************************************************************************\n",
    "    Methods:\n",
    "    make_dataset - from X and y makes one matrix\n",
    "    MSE - count the MSE\n",
    "    test_split - split the dataset into two groups with the threshold \n",
    "    get_split - find the best split using the best criterion value\n",
    "    to_terminal - make the final node\n",
    "    split - build the tree, recursively\n",
    "    fit - starts the tree building\n",
    "    print_tree - print the tree\n",
    "    predict_row - predict the row of data using the tree\n",
    "    predict - predict the whole data\n",
    "    '''\n",
    "    def __init__(self, max_depth=np.infty, min_samples_split=2):\n",
    "        self.max_depth = max_depth\n",
    "        self.min_samples_split = min_samples_split\n",
    "        \n",
    "    def make_dataset(self, X, y):\n",
    "        return np.concatenate((X, y.reshape(-1, 1)), axis=1)\n",
    "    \n",
    "    def MSE(self, groups):\n",
    "        n_instances = np.sum([len(group) for group in groups])\n",
    "        criterion = 0\n",
    "        for group in groups:\n",
    "            size = len(group)\n",
    "            if size == 0:\n",
    "                continue\n",
    "            score = np.mean(group[:, -1])\n",
    "            criterion += np.sum((score - group[:, -1]) ** 2) # not weighted, just sum or residuals\n",
    "        return criterion\n",
    "\n",
    "    def test_split(self, index, value, dataset):\n",
    "        left, right = list(), list()\n",
    "        for row in dataset:\n",
    "            if row[index] < value:\n",
    "                left.append(row)\n",
    "            else:\n",
    "                right.append(row)\n",
    "        return np.array(left), np.array(right)\n",
    "\n",
    "    def get_split(self, dataset):\n",
    "        b_index, b_value, b_score, b_groups, MSE_history = None, None, np.infty, None, []\n",
    "        for index in range(len(dataset[0]) - 1):\n",
    "            for row in dataset:\n",
    "                groups = self.test_split(index, row[index], dataset)\n",
    "                criterion = self.MSE(groups)\n",
    "                MSE_history.append(criterion)\n",
    "                if criterion <= b_score:\n",
    "                    b_index, b_value, b_score, b_groups = index, row[index], criterion, groups\n",
    "        if len(set(MSE_history)) == 1: # checking if there's no need to split dataset\n",
    "            b_groups = self.test_split(0, np.min(dataset[:, 0]), dataset)\n",
    "        try:\n",
    "            b_value = (b_value + np.max(b_groups[0][:, b_index])) / 2\n",
    "        except IndexError:\n",
    "            pass\n",
    "        return {'index':b_index, 'value':b_value, 'groups':b_groups}\n",
    "\n",
    "    def to_terminal(self, group):\n",
    "        outcomes = group[:, -1]\n",
    "        return np.mean(outcomes)\n",
    "\n",
    "    def split(self, node, depth):\n",
    "        left, right = node['groups']\n",
    "        del(node['groups'])\n",
    "        if len(left) == 0 or len(right) == 0:\n",
    "            node['left'] = node['right'] = self.to_terminal(np.array(left.tolist() + right.tolist()))\n",
    "            return\n",
    "        if depth >= self.max_depth:\n",
    "            node['left'], node['right'] = self.to_terminal(left), self.to_terminal(right)\n",
    "            return\n",
    "        if len(left) < self.min_samples_split:\n",
    "            node['left'] = self.to_terminal(left)\n",
    "        else:\n",
    "            node['left'] = self.get_split(left)\n",
    "            self.split(node['left'], depth+1)\n",
    "        if len(right) < self.min_samples_split:\n",
    "            node['right'] = self.to_terminal(right)\n",
    "        else:\n",
    "            node['right'] = self.get_split(right)\n",
    "            self.split(node['right'], depth+1)\n",
    "            \n",
    "    def fit(self, X, y):\n",
    "        train = self.make_dataset(X, y)\n",
    "        root = self.get_split(train)\n",
    "        self.split(root, 1)\n",
    "        self.node = root\n",
    "\n",
    "    def print_tree(self, node, depth=0):\n",
    "        if isinstance(node, dict):\n",
    "            print('{0}[X[{1}] < {2}]'.format(depth * '>', node['index'], np.round(node['value'], 3)))\n",
    "            self.print_tree(node['left'], depth+1)\n",
    "            self.print_tree(node['right'], depth+1)\n",
    "        else:\n",
    "            print('{0}[{1}]'.format('   ' + depth * '>', node))\n",
    "    \n",
    "    def predict_row(self, node, row):\n",
    "        if row[node['index']] < node['value']:\n",
    "            if isinstance(node['left'], dict):\n",
    "                return self.predict_row(node['left'], row)\n",
    "            else:\n",
    "                return node['left']\n",
    "        else:\n",
    "            if isinstance(node['right'], dict):\n",
    "                return self.predict_row(node['right'], row)\n",
    "            else:\n",
    "                return node['right']\n",
    "            \n",
    "    def predict(self, X):\n",
    "        predictions = np.array([])\n",
    "        for row in X:\n",
    "            predictions = np.append(predictions, self.predict_row(self.node, row))\n",
    "        return predictions"
   ]
  },
  {
   "cell_type": "code",
   "execution_count": 20,
   "metadata": {},
   "outputs": [],
   "source": [
    "class GradientBoostingRegressor:\n",
    "    '''\n",
    "    GradientBoostingRegressor class is used to permorm gragient boosting on trees.\n",
    "    *****************************************************************************************\n",
    "    Attributes:\n",
    "    lr - learning rate\n",
    "    n_iter - number of iterations\n",
    "    max_depth - int; adjusts the depth of the tree\n",
    "    min_samples_split - int; set the minimum size to split\n",
    "    *****************************************************************************************\n",
    "    Methods:\n",
    "    fit - build the algorithm\n",
    "    predict - predict the whole data\n",
    "    '''\n",
    "    def __init__(self, lr=0.1, n_iter=100, **model_args):\n",
    "        self.lr = lr\n",
    "        self.n_iter = n_iter\n",
    "        self.model = DecisionTreeRegressor(**model_args)\n",
    "        self.models = list()\n",
    "        \n",
    "        for i in range(n_iter):\n",
    "            self.models.append(copy.deepcopy(self.model))\n",
    "            \n",
    "    def fit(self, x, y):\n",
    "        approximation = np.zeros((x.shape[0])).reshape(-1)\n",
    "        \n",
    "        for model in self.models:\n",
    "            grad = -(y.reshape(-1) - approximation)\n",
    "            \n",
    "            model.fit(x, grad) # fit model on residuals\n",
    "            approximation -= self.lr * model.predict(x)\n",
    "        return self\n",
    "    \n",
    "    def predict(self, x):\n",
    "        approximation = np.zeros((x.shape[0])).reshape(-1)\n",
    "        for model in self.models:\n",
    "            approximation -= self.lr * model.predict(x)\n",
    "        return approximation\n",
    "    \n",
    "    def __repr__(self):\n",
    "        return f'GradientBoostingRegressor(lr={self.lr}, n_iter={self.n_iter})'"
   ]
  },
  {
   "cell_type": "code",
   "execution_count": 21,
   "metadata": {},
   "outputs": [],
   "source": [
    "data = load_boston()\n",
    "x = data['data']\n",
    "y = data['target']\n",
    "x_train, x_test, y_train, y_test = train_test_split(x, y, test_size=0.33, random_state=42)"
   ]
  },
  {
   "cell_type": "code",
   "execution_count": 53,
   "metadata": {},
   "outputs": [
    {
     "data": {
      "text/plain": [
       "GradientBoostingRegressor(lr=0.1, n_iter=100)"
      ]
     },
     "execution_count": 53,
     "metadata": {},
     "output_type": "execute_result"
    }
   ],
   "source": [
    "boosting = GradientBoostingRegressor(lr=0.1, max_depth=3)\n",
    "boosting.fit(x_train, y_train)"
   ]
  },
  {
   "cell_type": "code",
   "execution_count": 54,
   "metadata": {},
   "outputs": [
    {
     "name": "stdout",
     "output_type": "stream",
     "text": [
      "r2_score: 0.887289369399193\n"
     ]
    }
   ],
   "source": [
    "print(f'{r2_score.__name__}: {r2_score(y_test, boosting.predict(x_test))}')"
   ]
  },
  {
   "cell_type": "code",
   "execution_count": 55,
   "metadata": {},
   "outputs": [],
   "source": [
    "my_tree = DecisionTreeRegressor_(max_depth=3)\n",
    "my_tree.fit(x_train, y_train)"
   ]
  },
  {
   "cell_type": "code",
   "execution_count": 56,
   "metadata": {},
   "outputs": [
    {
     "name": "stdout",
     "output_type": "stream",
     "text": [
      "r2_score: 0.6860847825591382\n"
     ]
    }
   ],
   "source": [
    "print(f'{r2_score.__name__}: {r2_score(y_test, my_tree.predict(x_test))}')"
   ]
  },
  {
   "cell_type": "code",
   "execution_count": 57,
   "metadata": {},
   "outputs": [
    {
     "data": {
      "text/plain": [
       "DecisionTreeRegressor(max_depth=3)"
      ]
     },
     "execution_count": 57,
     "metadata": {},
     "output_type": "execute_result"
    }
   ],
   "source": [
    "skl_tree = DecisionTreeRegressor(max_depth=3)\n",
    "skl_tree.fit(x_train, y_train)"
   ]
  },
  {
   "cell_type": "code",
   "execution_count": 58,
   "metadata": {},
   "outputs": [
    {
     "name": "stdout",
     "output_type": "stream",
     "text": [
      "r2_score: 0.6860847825591381\n"
     ]
    }
   ],
   "source": [
    "print(f'{r2_score.__name__}: {r2_score(y_test, skl_tree.predict(x_test))}')"
   ]
  },
  {
   "cell_type": "code",
   "execution_count": 4,
   "metadata": {},
   "outputs": [
    {
     "data": {
      "text/html": [
       "<style>\n",
       "\n",
       "div #notebook {\n",
       "    background-color: #FFF9EE;\n",
       "    margin: auto;\n",
       "}\n",
       "\n",
       "#notebook-container {\n",
       "    padding: 15px;\n",
       "    background-color: #FFFAFA;\n",
       "    min-height: 0;\n",
       "    -webkit-box-shadow: 0px 0px 12px 1px rgba(87, 87, 87, 0.2);\n",
       "    box-shadow: 0px 0px 12px 1px rgba(87, 87, 87, 0.2);\n",
       "}\n",
       "\n",
       "div.cell { /* set cell width to about 80 chars */\n",
       "    background-color: #FFFAFA;\n",
       "}\n",
       "\n",
       "div.cell.border-box-sizing.code_cell.running { \n",
       "    border: 3px solid #111;\n",
       "}\n",
       "\n",
       "div.cell.code_cell {\n",
       "    background-color: #FFFAFA ;\n",
       "    border-radius: 5px;\n",
       "    padding: 1em;\n",
       "    margin-top: 1em;\n",
       "}\n",
       "\n",
       "div.text_cell_render{\n",
       "    font-family: 'Times New Roman';\n",
       "    color: #B8860B\n",
       "}\n",
       "\n",
       ".text_cell_render h1 {\n",
       "    font-family: 'Times New Roman';\n",
       "    font-weight: 300;\n",
       "    font-size: 40pt;\n",
       "    line-height: 100%;\n",
       "    color: #8B4513;\n",
       "    font-style: italic;\n",
       "}\n",
       "\n",
       ".text_cell_render h2 {\n",
       "    font-family: 'Times New Roman';\n",
       "    font-weight: 700;\n",
       "    font-size: 30pt;\n",
       "    line-height: 100%;\n",
       "    color: #8B4513;\n",
       "    font-style: italic;\n",
       "}\n",
       "\n",
       ".text_cell_render h3 {\n",
       "    font-family: 'Times New Roman';\n",
       "    font-size: 25pt;\n",
       "    margin-bottom: 3px;\n",
       "    font-style: italic;\n",
       "    color: #8B4513;\n",
       "}\n",
       "\n",
       ".text_cell_render h4 {\n",
       "    font-family: 'Times New Roman';\n",
       "    font-size: 20pt;\n",
       "    color: #8B4513;\n",
       "    font-style: italic;\n",
       "}\n",
       "\n",
       ".text_cell_render h5 {\n",
       "    font-family: 'Times New Roman';\n",
       "    font-weight: 300;\n",
       "    font-size: 16pt;\n",
       "    color: #8B4513;\n",
       "    font-style: italic;\n",
       "}\n",
       "\n",
       ".text_cell_render h6 {\n",
       "    font-family: 'Times New Roman';\n",
       "    font-weight: 300;\n",
       "    font-size: 10pt;\n",
       "    color: #8B4513;\n",
       "    font-style: italic;\n",
       "}\n",
       "\n",
       ".text_cell_render p {\n",
       "    font-family: 'Times New Roman';\n",
       "    font-size: 15pt;\n",
       "    color: black;\n",
       "    text-align: justify;\n",
       "    text-justify: inter-word;\n",
       "    line-height: 1.5;\n",
       "}\n",
       "\n",
       "mark {\n",
       "  background: #D5EAFF;\n",
       "  color: black;\n",
       "}\n",
       "\n",
       ".output_wrapper, .output {\n",
       "    height:auto !important;\n",
       "    max-height:2000px;  /* your desired max-height here */\n",
       "}\n",
       "\n",
       ".CodeMirror{\n",
       "    background-color: #FFFAFA;\n",
       "}\n",
       "</style>"
      ],
      "text/plain": [
       "<IPython.core.display.HTML object>"
      ]
     },
     "execution_count": 4,
     "metadata": {},
     "output_type": "execute_result"
    }
   ],
   "source": [
    "with open('./style.css', 'r') as f:\n",
    "    style = f.read()\n",
    "HTML(style)"
   ]
  }
 ],
 "metadata": {
  "kernelspec": {
   "display_name": "Python 3",
   "language": "python",
   "name": "python3"
  },
  "language_info": {
   "codemirror_mode": {
    "name": "ipython",
    "version": 3
   },
   "file_extension": ".py",
   "mimetype": "text/x-python",
   "name": "python",
   "nbconvert_exporter": "python",
   "pygments_lexer": "ipython3",
   "version": "3.7.6"
  }
 },
 "nbformat": 4,
 "nbformat_minor": 4
}
